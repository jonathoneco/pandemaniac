{
 "cells": [
  {
   "cell_type": "code",
   "execution_count": 20,
   "metadata": {},
   "outputs": [],
   "source": [
    "import networkx as nx\n",
    "import itertools\n",
    "import random\n",
    "import numpy as np\n",
    "from datetime import datetime\n",
    "from utils import *\n",
    "from tqdm import tqdm"
   ]
  },
  {
   "cell_type": "code",
   "execution_count": 21,
   "metadata": {},
   "outputs": [],
   "source": [
    "def super_secret_strategy(filename, n_seeds):\n",
    "  curr_time = datetime.now()\n",
    "  \n",
    "  G = get_graph_from_file(f'sample_graphs/{filename}')\n",
    "  c_deg = dict(G.degree())\n",
    "  nodes = optimized_sim.create_nodes(nx.to_dict_of_lists(G))\n",
    "  deg_nodes = sorted(c_deg.keys(), key=lambda x : c_deg[x], reverse=True)[:n_seeds]\n",
    "  print(f'Degree nodes: {deg_nodes}')\n",
    "\n",
    "  wins = {}\n",
    "  previously_tried = set()\n",
    "\n",
    "  while (datetime.now() - curr_time).total_seconds() < 3.5*60:\n",
    "    seed = frozenset(np.random.choice(G.nodes(), n_seeds, replace=False))\n",
    "    \n",
    "    if seed not in previously_tried:\n",
    "      rand, deg = score_seeds_opt(seed, deg_nodes, nodes)\n",
    "      previously_tried.add(seed)\n",
    "      if rand > deg:\n",
    "        wins[seed] = rand\n",
    "        print(f'{seed} beat degrees')\n",
    "  return wins\n",
    "\n",
    "        "
   ]
  },
  {
   "cell_type": "code",
   "execution_count": 22,
   "metadata": {},
   "outputs": [
    {
     "name": "stdout",
     "output_type": "stream",
     "text": [
      "Degree nodes: ['2', '10', '9', '17', '33']\n"
     ]
    },
    {
     "data": {
      "text/plain": [
       "{}"
      ]
     },
     "execution_count": 22,
     "metadata": {},
     "output_type": "execute_result"
    }
   ],
   "source": [
    "super_secret_strategy('J.5.1.json', 5)"
   ]
  },
  {
   "cell_type": "code",
   "execution_count": 23,
   "metadata": {},
   "outputs": [
    {
     "name": "stdout",
     "output_type": "stream",
     "text": [
      "Degree nodes: ['11', '13', '30', '23', '40']\n",
      "frozenset({'30', '28', '11', '41', '12'}) beat degrees\n",
      "frozenset({'30', '33', '40', '41', '79'}) beat degrees\n",
      "frozenset({'30', '33', '1', '90', '51'}) beat degrees\n",
      "frozenset({'30', '33', '23', '38', '89'}) beat degrees\n",
      "frozenset({'30', '33', '70', '44', '39'}) beat degrees\n",
      "frozenset({'30', '2', '39', '66', '51'}) beat degrees\n",
      "frozenset({'81', '30', '33', '40', '39'}) beat degrees\n",
      "frozenset({'30', '55', '50', '39', '51'}) beat degrees\n",
      "frozenset({'30', '33', '56', '1', '21'}) beat degrees\n",
      "frozenset({'30', '33', '55', '39', '41'}) beat degrees\n",
      "frozenset({'30', '53', '51', '41', '65'}) beat degrees\n",
      "frozenset({'30', '33', '70', '39', '12'}) beat degrees\n",
      "frozenset({'30', '23', '40', '92', '51'}) beat degrees\n",
      "frozenset({'30', '33', '11', '41', '64'}) beat degrees\n",
      "frozenset({'30', '33', '40', '47', '8'}) beat degrees\n",
      "frozenset({'30', '33', '70', '39', '64'}) beat degrees\n",
      "frozenset({'30', '70', '1', '51', '18'}) beat degrees\n",
      "frozenset({'37', '33', '40', '51', '47'}) beat degrees\n",
      "frozenset({'30', '33', '34', '38', '51'}) beat degrees\n",
      "frozenset({'30', '11', '40', '39', '95'}) beat degrees\n",
      "frozenset({'30', '33', '11', '32', '41'}) beat degrees\n",
      "frozenset({'30', '33', '1', '40', '21'}) beat degrees\n",
      "frozenset({'30', '33', '50', '51', '95'}) beat degrees\n",
      "frozenset({'30', '76', '11', '51', '41'}) beat degrees\n",
      "frozenset({'30', '74', '40', '53', '51'}) beat degrees\n",
      "frozenset({'30', '33', '50', '51', '18'}) beat degrees\n",
      "frozenset({'30', '33', '50', '51', '16'}) beat degrees\n",
      "frozenset({'19', '30', '11', '40', '51'}) beat degrees\n",
      "frozenset({'30', '33', '23', '89', '21'}) beat degrees\n"
     ]
    }
   ],
   "source": [
    "winning_strats = super_secret_strategy('RR.5.1.json', 5)\n",
    "# choose the winning strat with the highest value\n",
    "winning_strat = max(winning_strats, key=winning_strats.get)"
   ]
  },
  {
   "cell_type": "code",
   "execution_count": 24,
   "metadata": {},
   "outputs": [
    {
     "data": {
      "text/plain": [
       "frozenset({'1', '30', '33', '51', '90'})"
      ]
     },
     "execution_count": 24,
     "metadata": {},
     "output_type": "execute_result"
    }
   ],
   "source": [
    "winning_strat\n"
   ]
  },
  {
   "cell_type": "code",
   "execution_count": 25,
   "metadata": {},
   "outputs": [
    {
     "ename": "NameError",
     "evalue": "name 'G' is not defined",
     "output_type": "error",
     "traceback": [
      "\u001b[0;31m---------------------------------------------------------------------------\u001b[0m",
      "\u001b[0;31mNameError\u001b[0m                                 Traceback (most recent call last)",
      "\u001b[1;32m/Users/jonco/CS/CS 144/pandemaniac/secret_strat.ipynb Cell 6\u001b[0m in \u001b[0;36m<cell line: 1>\u001b[0;34m()\u001b[0m\n\u001b[1;32m      <a href='vscode-notebook-cell:/Users/jonco/CS/CS%20144/pandemaniac/secret_strat.ipynb#W5sZmlsZQ%3D%3D?line=0'>1</a>\u001b[0m \u001b[39mfor\u001b[39;00m (seed1, seed2) \u001b[39min\u001b[39;00m itertools\u001b[39m.\u001b[39mcombinations(winning_strats, \u001b[39m2\u001b[39m):\n\u001b[0;32m----> <a href='vscode-notebook-cell:/Users/jonco/CS/CS%20144/pandemaniac/secret_strat.ipynb#W5sZmlsZQ%3D%3D?line=1'>2</a>\u001b[0m   nodes \u001b[39m=\u001b[39m optimized_sim\u001b[39m.\u001b[39mcreate_nodes(nx\u001b[39m.\u001b[39mto_dict_of_lists(G))\n\u001b[1;32m      <a href='vscode-notebook-cell:/Users/jonco/CS/CS%20144/pandemaniac/secret_strat.ipynb#W5sZmlsZQ%3D%3D?line=2'>3</a>\u001b[0m   \u001b[39mprint\u001b[39m(score_comp_seeds(seed1, seed2, nodes))\n",
      "\u001b[0;31mNameError\u001b[0m: name 'G' is not defined"
     ]
    }
   ],
   "source": [
    "\n",
    "for (seed1, seed2) in itertools.combinations(winning_strats, 2):\n",
    "  nodes = optimized_sim.create_nodes(nx.to_dict_of_lists(G))\n",
    "  print(score_comp_seeds(seed1, seed2, nodes))\n"
   ]
  }
 ],
 "metadata": {
  "kernelspec": {
   "display_name": "Python 3",
   "language": "python",
   "name": "python3"
  },
  "language_info": {
   "codemirror_mode": {
    "name": "ipython",
    "version": 3
   },
   "file_extension": ".py",
   "mimetype": "text/x-python",
   "name": "python",
   "nbconvert_exporter": "python",
   "pygments_lexer": "ipython3",
   "version": "3.9.12"
  },
  "orig_nbformat": 4,
  "vscode": {
   "interpreter": {
    "hash": "38cca0c38332a56087b24af0bc80247f4fced29cb4f7f437d91dc159adec9c4e"
   }
  }
 },
 "nbformat": 4,
 "nbformat_minor": 2
}
