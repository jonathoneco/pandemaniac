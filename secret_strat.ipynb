{
 "cells": [
  {
   "cell_type": "code",
   "execution_count": 21,
   "metadata": {},
   "outputs": [],
   "source": [
    "import networkx as nx\n",
    "import itertools\n",
    "import random\n",
    "import numpy as np\n",
    "from datetime import datetime\n",
    "from utils import *\n",
    "from tqdm import tqdm\n",
    "from scipy.sparse import dia_matrix\n",
    "from collections import Counter"
   ]
  },
  {
   "cell_type": "code",
   "execution_count": null,
   "metadata": {},
   "outputs": [],
   "source": [
    "!pip uninstall scipy -y\n",
    "!pip install scipy==1.8.0\n",
    "\n",
    "!pip uninstall networkx -y\n",
    "!pip install networkx==2.6"
   ]
  },
  {
   "cell_type": "code",
   "execution_count": null,
   "metadata": {},
   "outputs": [],
   "source": [
    "def super_secret_strategy(filename, n_seeds):\n",
    "  curr_time = datetime.now()\n",
    "  \n",
    "  G = get_graph_from_file(f'sample_graphs/{filename}')\n",
    "  c_deg = dict(G.degree())\n",
    "  degs = np.array(list(c_deg.values())) + 1\n",
    "  probs = degs / np.sum(degs)\n",
    "  nodes = optimized_sim.create_nodes(nx.to_dict_of_lists(G))\n",
    "  deg_nodes = sorted(c_deg.keys(), key=lambda x : c_deg[x], reverse=True)\n",
    "  print([(i, c_deg[i]) for i in deg_nodes])\n",
    "  deg_nodes = deg_nodes[:n_seeds]\n",
    "  print(f'Degree nodes: {deg_nodes}')\n",
    "\n",
    "  wins = {}\n",
    "  previously_tried = set()\n",
    "\n",
    "  while (datetime.now() - curr_time).total_seconds() < 10*60:\n",
    "    seed = frozenset(np.random.choice(G.nodes(), n_seeds, replace=False, p=probs))\n",
    "    \n",
    "    if seed not in previously_tried:\n",
    "      rand, deg = score_seeds_opt(seed, deg_nodes, nodes)\n",
    "      previously_tried.add(seed)\n",
    "      if rand > deg:\n",
    "        wins[seed] = rand\n",
    "        print(f'{seed} beat degrees {rand} to {deg}')\n",
    "\n",
    "  if len(wins) == 0:\n",
    "    return [frozenset(deg_nodes)]\n",
    "\n",
    "  return wins\n",
    "\n",
    "        "
   ]
  },
  {
   "cell_type": "code",
   "execution_count": null,
   "metadata": {},
   "outputs": [],
   "source": [
    "super_secret_strategy('RR.5.10.json', 5)"
   ]
  },
  {
   "cell_type": "code",
   "execution_count": null,
   "metadata": {},
   "outputs": [],
   "source": [
    "Gsmall = get_graph_from_file(f'sample_graphs/RR.5.10.json')\n",
    "btwn_small = nx.betweenness_centrality(Gsmall)\n",
    "most = sorted(Gsmall.nodes(), key=lambda x : btwn_small[x], reverse=True)\n",
    "print(most)"
   ]
  },
  {
   "cell_type": "code",
   "execution_count": null,
   "metadata": {},
   "outputs": [],
   "source": [
    "to_test = frozenset([\"35\", \"185\", \"220\", \"117\", \"125\"])\n",
    "deg_nodes = frozenset(['35', '185', '20', '125', '220'])\n",
    "nodes = optimized_sim.create_nodes(nx.to_dict_of_lists(get_graph_from_file(f'sample_graphs/RR.5.10.json')))\n",
    "\n",
    "winning_strats = [frozenset(['158', '185', '214', '286', '50']), frozenset(['125', '185', '187', '20', '279'])]\n",
    "\n",
    "for strat in winning_strats:\n",
    "    (us, them) = score_seeds_opt(strat, to_test, nodes)\n",
    "    print(us, them)"
   ]
  },
  {
   "cell_type": "code",
   "execution_count": null,
   "metadata": {},
   "outputs": [],
   "source": [
    "super_secret_strategy('RR.10.30.json', 10)"
   ]
  },
  {
   "cell_type": "code",
   "execution_count": null,
   "metadata": {},
   "outputs": [],
   "source": [
    "to_test = frozenset([\"155\", \"107\", \"121\", \"195\", \"133\", \"109\", \"137\", \"24\", \"28\", \"73\"])\n",
    "nodes = optimized_sim.create_nodes(nx.to_dict_of_lists(get_graph_from_file(f'sample_graphs/RR.10.30.json')))\n",
    "deg = frozenset(['155', '82', '8', '28', '96', '137', '9', '24', '73', '107'])\n",
    "winning_strats = [frozenset(['107', '82', '149', '96', '155', '109', '103', '121', '148', '20']), frozenset(['133', '202', '82', '201', '149', '4', '40', '109', '163', '137'])]\n",
    "\n",
    "for strat in winning_strats:\n",
    "    print(f'strat vs test: {score_seeds_opt(strat, to_test, nodes)}')"
   ]
  },
  {
   "cell_type": "code",
   "execution_count": null,
   "metadata": {},
   "outputs": [],
   "source": [
    "G = get_graph_from_file(f'sample_graphs/RR.10.30.json')\n",
    "perc = {v : nx.local_reaching_centrality(G, v) for v in G.nodes()}\n",
    "perc = sorted(G.nodes(), key=lambda x : perc[x], reverse=True)[:10]\n",
    "print(perc)"
   ]
  },
  {
   "cell_type": "code",
   "execution_count": null,
   "metadata": {},
   "outputs": [],
   "source": [
    "vr = nx.voterank(G)[:10]\n",
    "print(vr)"
   ]
  },
  {
   "cell_type": "code",
   "execution_count": null,
   "metadata": {},
   "outputs": [],
   "source": [
    "btwn = nx.betweenness_centrality(G)\n",
    "most = sorted(G.nodes(), key=lambda x : btwn[x], reverse=True)[:10]\n",
    "print(most)"
   ]
  },
  {
   "cell_type": "code",
   "execution_count": null,
   "metadata": {},
   "outputs": [],
   "source": [
    "res = nx.katz_centrality(G)\n",
    "katz = sorted(G.nodes(), key=lambda x : res[x], reverse=True)[:10]\n",
    "print(katz)"
   ]
  },
  {
   "cell_type": "code",
   "execution_count": null,
   "metadata": {},
   "outputs": [],
   "source": [
    "test = np.zeros(5)\n",
    "print(test)\n",
    "\n",
    "pts = frozenset([1,2])\n",
    "pts2 = frozenset([1,2])\n",
    "\n",
    "test[list(pts)] += 1\n",
    "print(test)\n",
    "\n",
    "test[list(pts)] -= 1\n",
    "print(test)\n",
    "\n",
    "print(pts == pts2)"
   ]
  },
  {
   "cell_type": "code",
   "execution_count": null,
   "metadata": {},
   "outputs": [],
   "source": [
    "test == None"
   ]
  },
  {
   "cell_type": "code",
   "execution_count": null,
   "metadata": {},
   "outputs": [],
   "source": [
    "np.sign(np.array([0,2,-5]))"
   ]
  },
  {
   "cell_type": "code",
   "execution_count": null,
   "metadata": {},
   "outputs": [],
   "source": [
    "G = get_graph_from_file(f'competition_graphs/sunday1/RR.10.30.json')"
   ]
  },
  {
   "cell_type": "code",
   "execution_count": null,
   "metadata": {},
   "outputs": [],
   "source": [
    "dia = 1.5 * np.ones(G.order())\n",
    "adj = nx.adjacency_matrix(G) + np.diag(dia)\n"
   ]
  },
  {
   "cell_type": "code",
   "execution_count": 21,
   "metadata": {},
   "outputs": [
    {
     "name": "stdout",
     "output_type": "stream",
     "text": [
      "100 99\n"
     ]
    }
   ],
   "source": [
    "us = frozenset([96, 8, 9, 137, 107, 59, 109, 82, 24, 155])\n",
    "us2 = frozenset([96, 36, 137, 9, 107, 109, 16, 24, 155, 28])\n",
    "them = frozenset([155, 107, 121, 195, 133, 109, 137, 24, 28, 73])\n",
    "\n",
    "\n",
    "res1, res2 = optimized_sim.sim_1v1(adj, us2, them)\n",
    "print(res1, res2)"
   ]
  },
  {
   "cell_type": "code",
   "execution_count": null,
   "metadata": {},
   "outputs": [
    {
     "name": "stdout",
     "output_type": "stream",
     "text": [
      "0.0078873268\n"
     ]
    }
   ],
   "source": [
    "then = datetime.now()\n",
    "n = 5000\n",
    "\n",
    "for _ in range(n):\n",
    "    _, _ = optimized_sim.sim_1v1(adj, us, them)\n",
    "\n",
    "print((datetime.now() - then).total_seconds() / n)"
   ]
  },
  {
   "cell_type": "code",
   "execution_count": null,
   "metadata": {},
   "outputs": [
    {
     "name": "stdout",
     "output_type": "stream",
     "text": [
      "14.829986\n"
     ]
    }
   ],
   "source": [
    "G = get_graph_from_file(f'sample_graphs/RR.10.51.json')\n",
    "nodes = optimized_sim.create_nodes(nx.to_dict_of_lists(G))\n",
    "\n",
    "us = frozenset([\"6\", \"55\", \"163\", \"145\", \"2\", \"23\", \"107\", \"22\", \"148\", \"109\"])\n",
    "them = frozenset([\"23\", \"148\", \"163\", \"55\", \"139\", \"6\", \"109\", \"145\", \"2\", \"22\"])\n",
    "\n",
    "then = datetime.now()\n",
    "\n",
    "for _ in range(500):\n",
    "    _, _ = score_seeds_opt(us, them, nodes)\n",
    "\n",
    "print((datetime.now() - then).total_seconds())"
   ]
  },
  {
   "cell_type": "code",
   "execution_count": null,
   "metadata": {},
   "outputs": [],
   "source": [
    "0.0039139178000000005\n",
    "0.0042473716"
   ]
  },
  {
   "cell_type": "code",
   "execution_count": null,
   "metadata": {},
   "outputs": [
    {
     "data": {
      "text/plain": [
       "Counter({0: 1, 1: 1, 2: 1, 3: 1, 4: 1})"
      ]
     },
     "execution_count": 8,
     "metadata": {},
     "output_type": "execute_result"
    }
   ],
   "source": [
    "x = np.matrix([0,1,2,3,4])\n",
    "y = np.array(x)[0]\n",
    "\n",
    "t = Counter(y)\n",
    "t"
   ]
  },
  {
   "cell_type": "code",
   "execution_count": 42,
   "metadata": {},
   "outputs": [
    {
     "name": "stdout",
     "output_type": "stream",
     "text": [
      "['2', '3', '1', '30', '21', '10', '13', '36', '4', '11', '14', '32', '5', '8', '27', '160', '19', '84', '7', '12', '62', '38', '34', '90', '23', '63', '110', '46', '120', '20', '45', '94', '158', '40', '74', '237', '25', '50', '59', '184', '385', '35', '179', '215', '219', '440', '33', '87', '126', '217', '227', '282', '9', '41', '42', '55', '99', '114', '166', '186', '196', '200', '203', '367', '505', '54', '61', '113', '122', '141', '163', '174', '185', '212', '221', '276', '473', '569', '590', '47', '64', '83', '115', '121', '134', '136', '178', '188', '239', '246', '258', '262', '293', '319', '343', '427', '428', '433', '467', '541', '546', '627', '817', '17', '51', '70', '77', '78', '85', '101', '119', '152', '168', '197', '271', '325', '346', '386', '421', '568', '583', '588', '599', '659', '15', '72', '75', '82', '91', '92', '95', '105', '116', '125', '127', '131', '133', '135', '138', '159', '199', '214', '234', '257', '264', '275', '285', '295', '311', '327', '337', '339', '345', '359', '383', '408', '418', '423', '431', '451', '459', '461', '489', '504', '508', '510', '515', '516', '528', '554', '558', '565', '592', '606', '39', '56', '68', '93', '98', '106', '118', '132', '151', '165', '167', '170', '172', '191', '201', '209', '265', '269', '281', '287', '303', '306', '308', '333', '334', '336', '340', '341', '344', '351', '375', '392', '395', '404', '406', '425', '453', '460', '462', '465', '474', '534', '542', '553', '577', '582', '585', '597', '610', '621', '648', '669', '674', '701', '704', '774', '779', '785', '790', '803', '809', '828', '835', '842', '855', '871', '22', '29', '43', '44', '52', '102', '187', '190', '202', '218', '231', '236', '241', '283', '284', '289', '300', '301', '304', '312', '320', '321', '332', '354', '358', '360', '364', '369', '370', '377', '381', '396', '405', '413', '414', '420', '422', '424', '426', '429', '441', '444', '464', '476', '494', '498', '503', '509', '560', '581', '587', '595', '596', '601', '602', '622', '629', '630', '637', '638', '657', '664', '675', '682', '689', '694', '707', '708', '710', '723', '726', '734', '736', '737', '740', '742', '778', '792', '813', '831', '836', '841', '849', '885', '18', '58', '66', '71', '76', '86', '107', '137', '147', '148', '162', '175', '193', '195', '224', '225', '228', '232', '238', '251', '253', '255', '263', '279', '291', '297', '298', '313', '314', '328', '329', '353', '356', '366', '368', '373', '379', '380', '384', '391', '402', '430', '439', '454', '456', '457', '482', '484', '497', '513', '520', '523', '530', '555', '562', '571', '574', '578', '609', '614', '615', '618', '625', '641', '643', '649', '662', '663', '672', '678', '681', '683', '685', '690', '691', '695', '705', '719', '720', '743', '746', '750', '759', '763', '784', '789', '791', '796', '800', '804', '810', '815', '820', '823', '825', '829', '830', '837', '839', '844', '859', '864', '865', '867', '873', '874', '879', '881', '26', '28', '49', '53', '67', '73', '81', '88', '89', '104', '128', '130', '140', '142', '143', '146', '153', '156', '157', '173', '182', '183', '198', '205', '213', '216', '226', '229', '233', '235', '240', '243', '266', '267', '286', '290', '292', '294', '323', '330', '331', '335', '338', '347', '348', '350', '352', '357', '361', '365', '372', '376', '382', '387', '388', '399', '403', '409', '417', '419', '438', '443', '447', '455', '472', '477', '478', '483', '486', '487', '488', '491', '492', '495', '499', '502', '512', '519', '521', '522', '525', '527', '536', '539', '544', '549', '550', '566', '567', '570', '579', '586', '593', '594', '603', '604', '611', '612', '616', '619', '624', '635', '644', '651', '653', '654', '655', '660', '661', '665', '668', '679', '680', '684', '686', '696', '699', '703', '706', '712', '714', '716', '717', '722', '727', '729', '730', '738', '747', '748', '749', '758', '761', '762', '766', '769', '772', '775', '776', '780', '782', '783', '786', '787', '795', '797', '801', '807', '816', '821', '827', '834', '843', '848', '851', '852', '858', '861', '862', '866', '875', '876', '877', '887', '888', '890', '891', '0', '16', '48', '65', '69', '79', '97', '103', '108', '111', '117', '123', '129', '154', '161', '169', '176', '180', '181', '189', '192', '204', '206', '208', '211', '220', '230', '245', '248', '249', '252', '254', '256', '259', '260', '268', '270', '272', '273', '274', '280', '288', '296', '310', '317', '322', '324', '355', '362', '371', '378', '389', '390', '400', '401', '407', '410', '411', '415', '436', '446', '448', '449', '450', '458', '463', '466', '471', '475', '479', '485', '493', '507', '511', '514', '517', '524', '529', '532', '533', '537', '538', '543', '545', '547', '548', '552', '556', '557', '563', '564', '575', '576', '580', '584', '589', '591', '600', '605', '607', '608', '617', '620', '623', '626', '628', '636', '639', '640', '642', '646', '647', '650', '667', '670', '673', '677', '688', '692', '693', '697', '709', '711', '713', '718', '721', '725', '728', '732', '739', '741', '744', '745', '751', '753', '757', '760', '764', '770', '777', '788', '793', '802', '805', '806', '808', '811', '814', '819', '822', '833', '838', '840', '845', '850', '856', '863', '868', '872', '880', '883', '884', '889', '892', '6', '24', '31', '37', '57', '60', '80', '96', '100', '109', '112', '124', '139', '144', '145', '149', '150', '155', '164', '171', '177', '194', '207', '210', '222', '223', '242', '244', '247', '250', '261', '277', '278', '299', '302', '305', '307', '309', '315', '316', '318', '326', '342', '349', '363', '374', '393', '394', '397', '398', '412', '416', '432', '434', '435', '437', '442', '445', '452', '468', '469', '470', '480', '481', '490', '496', '500', '501', '506', '518', '526', '531', '535', '540', '551', '559', '561', '572', '573', '598', '613', '631', '632', '633', '634', '645', '652', '656', '658', '666', '671', '676', '687', '698', '700', '702', '715', '724', '731', '733', '735', '752', '754', '755', '756', '765', '767', '768', '771', '773', '781', '794', '798', '799', '812', '818', '824', '826', '832', '846', '847', '853', '854', '857', '860', '869', '870', '878', '882', '886']\n"
     ]
    },
    {
     "name": "stderr",
     "output_type": "stream",
     "text": [
      "/var/folders/bn/hf8434b56gngl4004d8wcfx40000gn/T/ipykernel_59528/3910463142.py:3: FutureWarning: adjacency_matrix will return a scipy.sparse array instead of a matrix in Networkx 3.0.\n",
      "  adj = nx.adjacency_matrix(G) + np.diag(dia)\n"
     ]
    }
   ],
   "source": [
    "G = get_graph_from_file(f'sample_graphs/RR.10.26.json')\n",
    "dia = 1.5 * np.ones(G.order())\n",
    "adj = nx.adjacency_matrix(G) + np.diag(dia)\n",
    "\n",
    "degrees = dict(nx.degree(G))\n",
    "sorted_deg = sorted(degrees.keys(), key=lambda x : degrees[x], reverse=True)\n",
    "\n",
    "print(sorted_deg)"
   ]
  },
  {
   "cell_type": "code",
   "execution_count": 43,
   "metadata": {},
   "outputs": [
    {
     "name": "stdout",
     "output_type": "stream",
     "text": [
      "220 531\n"
     ]
    }
   ],
   "source": [
    "us = frozenset([2, 94, 1, 3, 30, 10, 4, 5, 21, 36])\n",
    "them = frozenset([2, 1, 3, 30, 21, 10, 4, 94, 36, 11])\n",
    "us2 = frozenset([1, 30, 10, 36, 3, 21, 4, 94, 2, 11])\n",
    "\n",
    "\n",
    "res1, res2 = optimized_sim.sim_1v1(adj, us, them)\n",
    "print(res1, res2)"
   ]
  },
  {
   "cell_type": "code",
   "execution_count": null,
   "metadata": {},
   "outputs": [],
   "source": []
  }
 ],
 "metadata": {
  "kernelspec": {
   "display_name": "base",
   "language": "python",
   "name": "python3"
  },
  "language_info": {
   "codemirror_mode": {
    "name": "ipython",
    "version": 3
   },
   "file_extension": ".py",
   "mimetype": "text/x-python",
   "name": "python",
   "nbconvert_exporter": "python",
   "pygments_lexer": "ipython3",
   "version": "3.9.16"
  },
  "orig_nbformat": 4,
  "vscode": {
   "interpreter": {
    "hash": "2c17cdae881039898e019dde816ef025ab5528b4115dbe62b08e3ff91b305481"
   }
  }
 },
 "nbformat": 4,
 "nbformat_minor": 2
}
