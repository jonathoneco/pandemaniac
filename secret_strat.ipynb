{
 "cells": [
  {
   "cell_type": "code",
   "execution_count": 3,
   "metadata": {},
   "outputs": [],
   "source": [
    "import networkx as nx\n",
    "import itertools\n",
    "import random\n",
    "import numpy as np\n",
    "from datetime import datetime\n",
    "from utils import *\n",
    "from tqdm import tqdm\n",
    "from scipy.sparse import dia_matrix\n",
    "from collections import Counter"
   ]
  },
  {
   "cell_type": "code",
   "execution_count": 2,
   "metadata": {},
   "outputs": [
    {
     "name": "stdout",
     "output_type": "stream",
     "text": [
      "^C\n",
      "\u001b[31mERROR: Operation cancelled by user\u001b[0m\n",
      "Requirement already satisfied: scipy==1.8.0 in /Users/michael/opt/anaconda3/lib/python3.9/site-packages (1.8.0)\n",
      "Requirement already satisfied: numpy<1.25.0,>=1.17.3 in /Users/michael/opt/anaconda3/lib/python3.9/site-packages (from scipy==1.8.0) (1.21.5)\n",
      "Found existing installation: networkx 2.6\n",
      "Uninstalling networkx-2.6:\n",
      "  Successfully uninstalled networkx-2.6\n",
      "Collecting networkx==2.6\n",
      "  Using cached networkx-2.6-py3-none-any.whl (1.9 MB)\n",
      "Requirement already satisfied: matplotlib>=3.3 in /Users/michael/opt/anaconda3/lib/python3.9/site-packages (from networkx==2.6) (3.5.1)\n",
      "Requirement already satisfied: numpy>=1.19 in /Users/michael/opt/anaconda3/lib/python3.9/site-packages (from networkx==2.6) (1.21.5)\n",
      "Requirement already satisfied: scipy!=1.6.1,>=1.5 in /Users/michael/opt/anaconda3/lib/python3.9/site-packages (from networkx==2.6) (1.8.0)\n",
      "Requirement already satisfied: pandas>=1.1 in /Users/michael/opt/anaconda3/lib/python3.9/site-packages (from networkx==2.6) (1.4.2)\n",
      "Requirement already satisfied: pillow>=6.2.0 in /Users/michael/opt/anaconda3/lib/python3.9/site-packages (from matplotlib>=3.3->networkx==2.6) (9.0.1)\n",
      "Requirement already satisfied: kiwisolver>=1.0.1 in /Users/michael/opt/anaconda3/lib/python3.9/site-packages (from matplotlib>=3.3->networkx==2.6) (1.3.2)\n",
      "Requirement already satisfied: python-dateutil>=2.7 in /Users/michael/opt/anaconda3/lib/python3.9/site-packages (from matplotlib>=3.3->networkx==2.6) (2.8.2)\n",
      "Requirement already satisfied: packaging>=20.0 in /Users/michael/opt/anaconda3/lib/python3.9/site-packages (from matplotlib>=3.3->networkx==2.6) (21.3)\n",
      "Requirement already satisfied: cycler>=0.10 in /Users/michael/opt/anaconda3/lib/python3.9/site-packages (from matplotlib>=3.3->networkx==2.6) (0.11.0)\n",
      "Requirement already satisfied: fonttools>=4.22.0 in /Users/michael/opt/anaconda3/lib/python3.9/site-packages (from matplotlib>=3.3->networkx==2.6) (4.25.0)\n",
      "Requirement already satisfied: pyparsing>=2.2.1 in /Users/michael/opt/anaconda3/lib/python3.9/site-packages (from matplotlib>=3.3->networkx==2.6) (3.0.4)\n",
      "Requirement already satisfied: pytz>=2020.1 in /Users/michael/opt/anaconda3/lib/python3.9/site-packages (from pandas>=1.1->networkx==2.6) (2021.3)\n",
      "Requirement already satisfied: six>=1.5 in /Users/michael/opt/anaconda3/lib/python3.9/site-packages (from python-dateutil>=2.7->matplotlib>=3.3->networkx==2.6) (1.16.0)\n",
      "\u001b[33mWARNING: The candidate selected for download or install is a yanked version: 'networkx' candidate (version 2.6 at https://files.pythonhosted.org/packages/b2/87/30ed9e62d5459bbf22b335fc2d9d1faf979d44b1c55a1f0455da0afd756e/networkx-2.6-py3-none-any.whl#sha256=2c9df3a92e7428adba5b6de05ee50d023491e47dabef63b399c7be8dc8a984d3 (from https://pypi.org/simple/networkx/) (requires-python:>=3.7))\n",
      "Reason for being yanked: Need to resolve: https://github.com/networkx/networkx/pull/4967\u001b[0m\n",
      "Installing collected packages: networkx\n",
      "Successfully installed networkx-2.6\n"
     ]
    }
   ],
   "source": [
    "!pip uninstall scipy -y\n",
    "!pip install scipy==1.8.0\n",
    "\n",
    "!pip uninstall networkx -y\n",
    "!pip install networkx==2.6"
   ]
  },
  {
   "cell_type": "code",
   "execution_count": null,
   "metadata": {},
   "outputs": [],
   "source": [
    "def super_secret_strategy(filename, n_seeds):\n",
    "  curr_time = datetime.now()\n",
    "  \n",
    "  G = get_graph_from_file(f'sample_graphs/{filename}')\n",
    "  c_deg = dict(G.degree())\n",
    "  degs = np.array(list(c_deg.values())) + 1\n",
    "  probs = degs / np.sum(degs)\n",
    "  nodes = optimized_sim.create_nodes(nx.to_dict_of_lists(G))\n",
    "  deg_nodes = sorted(c_deg.keys(), key=lambda x : c_deg[x], reverse=True)\n",
    "  print([(i, c_deg[i]) for i in deg_nodes])\n",
    "  deg_nodes = deg_nodes[:n_seeds]\n",
    "  print(f'Degree nodes: {deg_nodes}')\n",
    "\n",
    "  wins = {}\n",
    "  previously_tried = set()\n",
    "\n",
    "  while (datetime.now() - curr_time).total_seconds() < 10*60:\n",
    "    seed = frozenset(np.random.choice(G.nodes(), n_seeds, replace=False, p=probs))\n",
    "    \n",
    "    if seed not in previously_tried:\n",
    "      rand, deg = score_seeds_opt(seed, deg_nodes, nodes)\n",
    "      previously_tried.add(seed)\n",
    "      if rand > deg:\n",
    "        wins[seed] = rand\n",
    "        print(f'{seed} beat degrees {rand} to {deg}')\n",
    "\n",
    "  if len(wins) == 0:\n",
    "    return [frozenset(deg_nodes)]\n",
    "\n",
    "  return wins\n",
    "\n",
    "        "
   ]
  },
  {
   "cell_type": "code",
   "execution_count": null,
   "metadata": {},
   "outputs": [
    {
     "name": "stdout",
     "output_type": "stream",
     "text": [
      "[('35', 14), ('185', 14), ('20', 12), ('125', 11), ('220', 11), ('108', 10), ('117', 10), ('133', 10), ('160', 10), ('233', 10), ('307', 10), ('24', 9), ('30', 9), ('49', 9), ('68', 9), ('106', 9), ('145', 9), ('148', 9), ('170', 9), ('179', 9), ('182', 9), ('187', 9), ('204', 9), ('205', 9), ('214', 9), ('230', 9), ('248', 9), ('259', 9), ('286', 9), ('4', 8), ('17', 8), ('43', 8), ('50', 8), ('53', 8), ('73', 8), ('91', 8), ('109', 8), ('147', 8), ('158', 8), ('159', 8), ('171', 8), ('208', 8), ('215', 8), ('218', 8), ('235', 8), ('255', 8), ('269', 8), ('272', 8), ('288', 8), ('291', 8), ('0', 7), ('9', 7), ('18', 7), ('29', 7), ('41', 7), ('56', 7), ('84', 7), ('86', 7), ('88', 7), ('98', 7), ('100', 7), ('107', 7), ('121', 7), ('123', 7), ('156', 7), ('177', 7), ('181', 7), ('194', 7), ('196', 7), ('234', 7), ('237', 7), ('238', 7), ('242', 7), ('249', 7), ('260', 7), ('275', 7), ('279', 7), ('312', 7), ('5', 6), ('6', 6), ('14', 6), ('21', 6), ('34', 6), ('45', 6), ('46', 6), ('52', 6), ('57', 6), ('60', 6), ('64', 6), ('65', 6), ('67', 6), ('72', 6), ('81', 6), ('96', 6), ('99', 6), ('113', 6), ('114', 6), ('122', 6), ('127', 6), ('128', 6), ('131', 6), ('149', 6), ('151', 6), ('161', 6), ('164', 6), ('166', 6), ('178', 6), ('190', 6), ('193', 6), ('222', 6), ('250', 6), ('251', 6), ('257', 6), ('266', 6), ('270', 6), ('274', 6), ('277', 6), ('283', 6), ('287', 6), ('290', 6), ('294', 6), ('297', 6), ('306', 6), ('314', 6), ('318', 6), ('3', 5), ('7', 5), ('8', 5), ('10', 5), ('22', 5), ('26', 5), ('27', 5), ('37', 5), ('40', 5), ('47', 5), ('55', 5), ('63', 5), ('69', 5), ('74', 5), ('75', 5), ('76', 5), ('79', 5), ('82', 5), ('89', 5), ('93', 5), ('101', 5), ('110', 5), ('126', 5), ('132', 5), ('134', 5), ('135', 5), ('138', 5), ('143', 5), ('163', 5), ('165', 5), ('173', 5), ('175', 5), ('191', 5), ('195', 5), ('221', 5), ('224', 5), ('227', 5), ('229', 5), ('241', 5), ('243', 5), ('245', 5), ('253', 5), ('268', 5), ('271', 5), ('276', 5), ('282', 5), ('292', 5), ('293', 5), ('316', 5), ('11', 4), ('12', 4), ('13', 4), ('15', 4), ('16', 4), ('23', 4), ('25', 4), ('31', 4), ('33', 4), ('36', 4), ('44', 4), ('48', 4), ('51', 4), ('77', 4), ('78', 4), ('80', 4), ('85', 4), ('90', 4), ('92', 4), ('102', 4), ('112', 4), ('116', 4), ('118', 4), ('119', 4), ('129', 4), ('130', 4), ('137', 4), ('139', 4), ('140', 4), ('141', 4), ('142', 4), ('146', 4), ('150', 4), ('154', 4), ('155', 4), ('157', 4), ('162', 4), ('167', 4), ('172', 4), ('184', 4), ('186', 4), ('189', 4), ('192', 4), ('202', 4), ('209', 4), ('210', 4), ('212', 4), ('213', 4), ('216', 4), ('219', 4), ('226', 4), ('231', 4), ('232', 4), ('261', 4), ('265', 4), ('278', 4), ('300', 4), ('305', 4), ('308', 4), ('311', 4), ('313', 4), ('1', 3), ('2', 3), ('32', 3), ('38', 3), ('39', 3), ('59', 3), ('62', 3), ('66', 3), ('70', 3), ('83', 3), ('87', 3), ('103', 3), ('115', 3), ('120', 3), ('124', 3), ('144', 3), ('153', 3), ('180', 3), ('197', 3), ('198', 3), ('199', 3), ('201', 3), ('203', 3), ('207', 3), ('211', 3), ('239', 3), ('244', 3), ('246', 3), ('247', 3), ('252', 3), ('256', 3), ('262', 3), ('264', 3), ('280', 3), ('281', 3), ('285', 3), ('296', 3), ('298', 3), ('299', 3), ('302', 3), ('310', 3), ('19', 2), ('28', 2), ('42', 2), ('58', 2), ('71', 2), ('94', 2), ('95', 2), ('97', 2), ('104', 2), ('105', 2), ('111', 2), ('136', 2), ('152', 2), ('168', 2), ('169', 2), ('174', 2), ('176', 2), ('183', 2), ('200', 2), ('206', 2), ('223', 2), ('228', 2), ('254', 2), ('263', 2), ('267', 2), ('273', 2), ('284', 2), ('295', 2), ('301', 2), ('309', 2), ('317', 2), ('54', 1), ('61', 1), ('217', 1), ('225', 1), ('236', 1), ('240', 1), ('289', 1), ('303', 1), ('188', 0), ('258', 0), ('304', 0), ('315', 0)]\n",
      "Degree nodes: ['35', '185', '20', '125', '220']\n",
      "frozenset({'185', '214', '50', '286', '158'}) beat degrees\n",
      "frozenset({'125', '187', '20', '185', '279'}) beat degrees\n"
     ]
    },
    {
     "data": {
      "text/plain": [
       "{frozenset({'158', '185', '214', '286', '50'}): 170.0,\n",
       " frozenset({'125', '185', '187', '20', '279'}): 160.0}"
      ]
     },
     "execution_count": 35,
     "metadata": {},
     "output_type": "execute_result"
    }
   ],
   "source": [
    "super_secret_strategy('RR.5.10.json', 5)"
   ]
  },
  {
   "cell_type": "code",
   "execution_count": null,
   "metadata": {},
   "outputs": [
    {
     "name": "stdout",
     "output_type": "stream",
     "text": [
      "['155', '109', '137', '28', '24', '9', '73', '96', '8', '82', '195', '171', '163', '107', '77', '150', '133', '121', '199', '101', '145', '146', '74', '173', '71', '40', '143', '149', '36', '91', '85', '44', '59', '32', '179', '103', '175', '122', '97', '208', '4', '63', '182', '176', '20', '112', '159', '190', '125', '197', '52', '27', '16', '49', '38', '184', '132', '6', '72', '81', '124', '41', '167', '140', '116', '111', '198', '164', '201', '141', '202', '162', '181', '15', '148', '110', '180', '90', '60', '53', '13', '157', '10', '100', '89', '5', '185', '50', '93', '200', '75', '196', '104', '115', '120', '70', '55', '117', '14', '47', '95', '205', '26', '156', '113', '152', '33', '1', '114', '2', '189', '79', '129', '98', '99', '106', '166', '135', '161', '151', '170', '11', '29', '119', '54', '144', '46', '138', '102', '105', '7', '66', '78', '168', '37', '160', '136', '51', '45', '17', '108', '84', '25', '177', '207', '19', '154', '3', '194', '22', '204', '58', '142', '130', '94', '165', '153', '62', '43', '188', '18', '80', '183', '169', '34', '134', '83', '30', '65', '191', '64', '158', '147', '139', '127', '21', '123', '203', '39', '192', '69', '67', '193', '48', '186', '206', '68', '42', '87', '128', '0', '57', '23', '12', '76', '61', '31', '35', '56', '86', '88', '92', '118', '126', '131', '172', '174', '178', '187']\n"
     ]
    }
   ],
   "source": [
    "Gsmall = get_graph_from_file(f'sample_graphs/RR.5.10.json')\n",
    "btwn_small = nx.betweenness_centrality(Gsmall)\n",
    "most = sorted(Gsmall.nodes(), key=lambda x : btwn_small[x], reverse=True)\n",
    "print(most)"
   ]
  },
  {
   "cell_type": "code",
   "execution_count": null,
   "metadata": {},
   "outputs": [
    {
     "name": "stdout",
     "output_type": "stream",
     "text": [
      "150.0 150.0\n",
      "140.0 169.0\n"
     ]
    }
   ],
   "source": [
    "to_test = frozenset([\"35\", \"185\", \"220\", \"117\", \"125\"])\n",
    "deg_nodes = frozenset(['35', '185', '20', '125', '220'])\n",
    "nodes = optimized_sim.create_nodes(nx.to_dict_of_lists(get_graph_from_file(f'sample_graphs/RR.5.10.json')))\n",
    "\n",
    "winning_strats = [frozenset(['158', '185', '214', '286', '50']), frozenset(['125', '185', '187', '20', '279'])]\n",
    "\n",
    "for strat in winning_strats:\n",
    "    (us, them) = score_seeds_opt(strat, to_test, nodes)\n",
    "    print(us, them)"
   ]
  },
  {
   "cell_type": "code",
   "execution_count": null,
   "metadata": {},
   "outputs": [
    {
     "name": "stdout",
     "output_type": "stream",
     "text": [
      "[('155', 12), ('82', 11), ('8', 10), ('28', 10), ('96', 10), ('137', 10), ('9', 9), ('24', 9), ('73', 9), ('107', 9), ('109', 9), ('121', 9), ('163', 9), ('103', 8), ('145', 8), ('171', 8), ('20', 7), ('36', 7), ('40', 7), ('52', 7), ('59', 7), ('72', 7), ('77', 7), ('85', 7), ('91', 7), ('97', 7), ('122', 7), ('133', 7), ('143', 7), ('146', 7), ('149', 7), ('150', 7), ('173', 7), ('195', 7), ('208', 7), ('4', 6), ('5', 6), ('6', 6), ('16', 6), ('32', 6), ('38', 6), ('41', 6), ('44', 6), ('49', 6), ('63', 6), ('74', 6), ('75', 6), ('81', 6), ('101', 6), ('111', 6), ('112', 6), ('125', 6), ('132', 6), ('141', 6), ('157', 6), ('159', 6), ('162', 6), ('175', 6), ('176', 6), ('179', 6), ('182', 6), ('190', 6), ('197', 6), ('199', 6), ('201', 6), ('202', 6), ('1', 5), ('10', 5), ('13', 5), ('14', 5), ('15', 5), ('26', 5), ('27', 5), ('33', 5), ('47', 5), ('50', 5), ('53', 5), ('55', 5), ('60', 5), ('70', 5), ('71', 5), ('79', 5), ('89', 5), ('90', 5), ('93', 5), ('95', 5), ('100', 5), ('110', 5), ('113', 5), ('115', 5), ('116', 5), ('117', 5), ('120', 5), ('124', 5), ('148', 5), ('156', 5), ('161', 5), ('164', 5), ('167', 5), ('180', 5), ('184', 5), ('196', 5), ('198', 5), ('200', 5), ('2', 4), ('7', 4), ('11', 4), ('19', 4), ('29', 4), ('45', 4), ('46', 4), ('54', 4), ('84', 4), ('98', 4), ('99', 4), ('102', 4), ('104', 4), ('105', 4), ('106', 4), ('119', 4), ('129', 4), ('135', 4), ('138', 4), ('140', 4), ('144', 4), ('151', 4), ('152', 4), ('153', 4), ('160', 4), ('165', 4), ('166', 4), ('170', 4), ('181', 4), ('185', 4), ('189', 4), ('205', 4), ('3', 3), ('17', 3), ('18', 3), ('25', 3), ('30', 3), ('37', 3), ('51', 3), ('58', 3), ('62', 3), ('64', 3), ('65', 3), ('66', 3), ('78', 3), ('80', 3), ('83', 3), ('94', 3), ('108', 3), ('114', 3), ('123', 3), ('130', 3), ('134', 3), ('136', 3), ('142', 3), ('147', 3), ('154', 3), ('158', 3), ('168', 3), ('169', 3), ('177', 3), ('183', 3), ('188', 3), ('191', 3), ('193', 3), ('194', 3), ('204', 3), ('207', 3), ('0', 2), ('12', 2), ('21', 2), ('22', 2), ('23', 2), ('34', 2), ('39', 2), ('42', 2), ('43', 2), ('48', 2), ('57', 2), ('61', 2), ('67', 2), ('68', 2), ('69', 2), ('76', 2), ('87', 2), ('127', 2), ('128', 2), ('131', 2), ('139', 2), ('186', 2), ('192', 2), ('203', 2), ('206', 2), ('31', 1), ('56', 1), ('86', 1), ('88', 1), ('118', 1), ('126', 1), ('172', 1), ('174', 1), ('187', 1), ('35', 0), ('92', 0), ('178', 0)]\n",
      "Degree nodes: ['155', '82', '8', '28', '96', '137', '9', '24', '73', '107']\n",
      "frozenset({'197', '133', '116', '82', '94', '137', '59', '4', '101', '162'}) beat degrees 102.0 to 101.0\n",
      "frozenset({'72', '116', '121', '155', '82', '149', '137', '59', '176', '106'}) beat degrees 109.0 to 92.0\n"
     ]
    },
    {
     "data": {
      "text/plain": [
       "{frozenset({'101',\n",
       "            '116',\n",
       "            '133',\n",
       "            '137',\n",
       "            '162',\n",
       "            '197',\n",
       "            '4',\n",
       "            '59',\n",
       "            '82',\n",
       "            '94'}): 102.0,\n",
       " frozenset({'106',\n",
       "            '116',\n",
       "            '121',\n",
       "            '137',\n",
       "            '149',\n",
       "            '155',\n",
       "            '176',\n",
       "            '59',\n",
       "            '72',\n",
       "            '82'}): 109.0}"
      ]
     },
     "execution_count": 58,
     "metadata": {},
     "output_type": "execute_result"
    }
   ],
   "source": [
    "super_secret_strategy('RR.10.30.json', 10)"
   ]
  },
  {
   "cell_type": "code",
   "execution_count": null,
   "metadata": {},
   "outputs": [
    {
     "name": "stdout",
     "output_type": "stream",
     "text": [
      "strat vs test: (103.0, 98.0)\n",
      "strat vs test: (79.0, 121.0)\n"
     ]
    }
   ],
   "source": [
    "to_test = frozenset([\"155\", \"107\", \"121\", \"195\", \"133\", \"109\", \"137\", \"24\", \"28\", \"73\"])\n",
    "nodes = optimized_sim.create_nodes(nx.to_dict_of_lists(get_graph_from_file(f'sample_graphs/RR.10.30.json')))\n",
    "deg = frozenset(['155', '82', '8', '28', '96', '137', '9', '24', '73', '107'])\n",
    "winning_strats = [frozenset(['107', '82', '149', '96', '155', '109', '103', '121', '148', '20']), frozenset(['133', '202', '82', '201', '149', '4', '40', '109', '163', '137'])]\n",
    "\n",
    "for strat in winning_strats:\n",
    "    print(f'strat vs test: {score_seeds_opt(strat, to_test, nodes)}')"
   ]
  },
  {
   "cell_type": "code",
   "execution_count": null,
   "metadata": {},
   "outputs": [
    {
     "name": "stdout",
     "output_type": "stream",
     "text": [
      "['155', '9', '109', '28', '163', '24', '137', '107', '8', '96']\n"
     ]
    }
   ],
   "source": [
    "G = get_graph_from_file(f'sample_graphs/RR.10.30.json')\n",
    "perc = {v : nx.local_reaching_centrality(G, v) for v in G.nodes()}\n",
    "perc = sorted(G.nodes(), key=lambda x : perc[x], reverse=True)[:10]\n",
    "print(perc)"
   ]
  },
  {
   "cell_type": "code",
   "execution_count": null,
   "metadata": {},
   "outputs": [
    {
     "name": "stdout",
     "output_type": "stream",
     "text": [
      "['155', '82', '28', '137', '8', '96', '121', '24', '107', '73']\n"
     ]
    }
   ],
   "source": [
    "vr = nx.voterank(G)[:10]\n",
    "print(vr)"
   ]
  },
  {
   "cell_type": "code",
   "execution_count": null,
   "metadata": {},
   "outputs": [
    {
     "name": "stdout",
     "output_type": "stream",
     "text": [
      "['155', '109', '137', '28', '24', '9', '73', '96', '8', '82']\n"
     ]
    }
   ],
   "source": [
    "btwn = nx.betweenness_centrality(G)\n",
    "most = sorted(G.nodes(), key=lambda x : btwn[x], reverse=True)[:10]\n",
    "print(most)"
   ]
  },
  {
   "cell_type": "code",
   "execution_count": null,
   "metadata": {},
   "outputs": [
    {
     "name": "stdout",
     "output_type": "stream",
     "text": [
      "['155', '28', '109', '82', '96', '9', '8', '107', '137', '163']\n"
     ]
    }
   ],
   "source": [
    "res = nx.katz_centrality(G)\n",
    "katz = sorted(G.nodes(), key=lambda x : res[x], reverse=True)[:10]\n",
    "print(katz)"
   ]
  },
  {
   "cell_type": "code",
   "execution_count": null,
   "metadata": {},
   "outputs": [
    {
     "name": "stdout",
     "output_type": "stream",
     "text": [
      "[0. 0. 0. 0. 0.]\n",
      "[0. 1. 1. 0. 0.]\n",
      "[0. 0. 0. 0. 0.]\n",
      "True\n"
     ]
    }
   ],
   "source": [
    "test = np.zeros(5)\n",
    "print(test)\n",
    "\n",
    "pts = frozenset([1,2])\n",
    "pts2 = frozenset([1,2])\n",
    "\n",
    "test[list(pts)] += 1\n",
    "print(test)\n",
    "\n",
    "test[list(pts)] -= 1\n",
    "print(test)\n",
    "\n",
    "print(pts == pts2)"
   ]
  },
  {
   "cell_type": "code",
   "execution_count": null,
   "metadata": {},
   "outputs": [
    {
     "data": {
      "text/plain": [
       "array([False, False, False, False, False])"
      ]
     },
     "execution_count": 129,
     "metadata": {},
     "output_type": "execute_result"
    }
   ],
   "source": [
    "test == None"
   ]
  },
  {
   "cell_type": "code",
   "execution_count": null,
   "metadata": {},
   "outputs": [
    {
     "data": {
      "text/plain": [
       "array([ 0,  1, -1])"
      ]
     },
     "execution_count": 131,
     "metadata": {},
     "output_type": "execute_result"
    }
   ],
   "source": [
    "np.sign(np.array([0,2,-5]))"
   ]
  },
  {
   "cell_type": "code",
   "execution_count": 4,
   "metadata": {},
   "outputs": [],
   "source": [
    "G = get_graph_from_file(f'sample_graphs/RR.10.51.json')"
   ]
  },
  {
   "cell_type": "code",
   "execution_count": 5,
   "metadata": {},
   "outputs": [],
   "source": [
    "dia = 1.5 * np.ones(G.order())\n",
    "adj = nx.adjacency_matrix(G) + np.diag(dia)\n"
   ]
  },
  {
   "cell_type": "code",
   "execution_count": 6,
   "metadata": {},
   "outputs": [
    {
     "ename": "TypeError",
     "evalue": "unhashable type: 'numpy.ndarray'",
     "output_type": "error",
     "traceback": [
      "\u001b[0;31m---------------------------------------------------------------------------\u001b[0m",
      "\u001b[0;31mTypeError\u001b[0m                                 Traceback (most recent call last)",
      "\u001b[1;32m/Users/michael/Desktop/Caltech/2022-2023/winter 2023/cs144/pandemaniac/secret_strat.ipynb Cell 18\u001b[0m in \u001b[0;36m<cell line: 4>\u001b[0;34m()\u001b[0m\n\u001b[1;32m      <a href='vscode-notebook-cell:/Users/michael/Desktop/Caltech/2022-2023/winter%202023/cs144/pandemaniac/secret_strat.ipynb#X33sZmlsZQ%3D%3D?line=0'>1</a>\u001b[0m us \u001b[39m=\u001b[39m \u001b[39mfrozenset\u001b[39m([\u001b[39m6\u001b[39m, \u001b[39m55\u001b[39m, \u001b[39m163\u001b[39m, \u001b[39m145\u001b[39m, \u001b[39m2\u001b[39m, \u001b[39m23\u001b[39m, \u001b[39m107\u001b[39m, \u001b[39m22\u001b[39m, \u001b[39m148\u001b[39m, \u001b[39m109\u001b[39m])\n\u001b[1;32m      <a href='vscode-notebook-cell:/Users/michael/Desktop/Caltech/2022-2023/winter%202023/cs144/pandemaniac/secret_strat.ipynb#X33sZmlsZQ%3D%3D?line=1'>2</a>\u001b[0m them \u001b[39m=\u001b[39m \u001b[39mfrozenset\u001b[39m([\u001b[39m23\u001b[39m, \u001b[39m148\u001b[39m, \u001b[39m163\u001b[39m, \u001b[39m55\u001b[39m, \u001b[39m139\u001b[39m, \u001b[39m6\u001b[39m, \u001b[39m109\u001b[39m, \u001b[39m145\u001b[39m, \u001b[39m2\u001b[39m, \u001b[39m22\u001b[39m])\n\u001b[0;32m----> <a href='vscode-notebook-cell:/Users/michael/Desktop/Caltech/2022-2023/winter%202023/cs144/pandemaniac/secret_strat.ipynb#X33sZmlsZQ%3D%3D?line=3'>4</a>\u001b[0m res1, res2 \u001b[39m=\u001b[39m optimized_sim\u001b[39m.\u001b[39;49msim_1v1(adj, us, them)\n",
      "File \u001b[0;32m~/Desktop/Caltech/2022-2023/winter 2023/cs144/pandemaniac/optimized_sim.py:208\u001b[0m, in \u001b[0;36msim_1v1\u001b[0;34m(A, seed1, seed2)\u001b[0m\n\u001b[1;32m    205\u001b[0m     \u001b[39miter\u001b[39m \u001b[39m+\u001b[39m\u001b[39m=\u001b[39m \u001b[39m1\u001b[39m\n\u001b[1;32m    207\u001b[0m curr \u001b[39m=\u001b[39m np\u001b[39m.\u001b[39marray(curr)\n\u001b[0;32m--> 208\u001b[0m counts \u001b[39m=\u001b[39m collections\u001b[39m.\u001b[39;49mCounter(curr)\n\u001b[1;32m    209\u001b[0m \u001b[39mprint\u001b[39m(counts)\n\u001b[1;32m    210\u001b[0m \u001b[39mreturn\u001b[39;00m counts[\u001b[39m1\u001b[39m], counts[\u001b[39m-\u001b[39m\u001b[39m1\u001b[39m]\n",
      "File \u001b[0;32m~/opt/anaconda3/lib/python3.9/collections/__init__.py:593\u001b[0m, in \u001b[0;36mCounter.__init__\u001b[0;34m(self, iterable, **kwds)\u001b[0m\n\u001b[1;32m    582\u001b[0m \u001b[39m'''Create a new, empty Counter object.  And if given, count elements\u001b[39;00m\n\u001b[1;32m    583\u001b[0m \u001b[39mfrom an input iterable.  Or, initialize the count from another mapping\u001b[39;00m\n\u001b[1;32m    584\u001b[0m \u001b[39mof elements to their counts.\u001b[39;00m\n\u001b[0;32m   (...)\u001b[0m\n\u001b[1;32m    590\u001b[0m \n\u001b[1;32m    591\u001b[0m \u001b[39m'''\u001b[39;00m\n\u001b[1;32m    592\u001b[0m \u001b[39msuper\u001b[39m()\u001b[39m.\u001b[39m\u001b[39m__init__\u001b[39m()\n\u001b[0;32m--> 593\u001b[0m \u001b[39mself\u001b[39;49m\u001b[39m.\u001b[39;49mupdate(iterable, \u001b[39m*\u001b[39;49m\u001b[39m*\u001b[39;49mkwds)\n",
      "File \u001b[0;32m~/opt/anaconda3/lib/python3.9/collections/__init__.py:679\u001b[0m, in \u001b[0;36mCounter.update\u001b[0;34m(self, iterable, **kwds)\u001b[0m\n\u001b[1;32m    677\u001b[0m             \u001b[39msuper\u001b[39m()\u001b[39m.\u001b[39mupdate(iterable)\n\u001b[1;32m    678\u001b[0m     \u001b[39melse\u001b[39;00m:\n\u001b[0;32m--> 679\u001b[0m         _count_elements(\u001b[39mself\u001b[39;49m, iterable)\n\u001b[1;32m    680\u001b[0m \u001b[39mif\u001b[39;00m kwds:\n\u001b[1;32m    681\u001b[0m     \u001b[39mself\u001b[39m\u001b[39m.\u001b[39mupdate(kwds)\n",
      "\u001b[0;31mTypeError\u001b[0m: unhashable type: 'numpy.ndarray'"
     ]
    }
   ],
   "source": [
    "us = frozenset([6, 55, 163, 145, 2, 23, 107, 22, 148, 109])\n",
    "them = frozenset([23, 148, 163, 55, 139, 6, 109, 145, 2, 22])\n",
    "\n",
    "res1, res2 = optimized_sim.sim_1v1(adj, us, them)"
   ]
  },
  {
   "cell_type": "code",
   "execution_count": null,
   "metadata": {},
   "outputs": [
    {
     "name": "stdout",
     "output_type": "stream",
     "text": [
      "0 1\n"
     ]
    }
   ],
   "source": [
    "print(res1, res2)"
   ]
  },
  {
   "cell_type": "code",
   "execution_count": null,
   "metadata": {},
   "outputs": [
    {
     "name": "stdout",
     "output_type": "stream",
     "text": [
      "0.0078873268\n"
     ]
    }
   ],
   "source": [
    "then = datetime.now()\n",
    "n = 5000\n",
    "\n",
    "for _ in range(n):\n",
    "    _, _ = optimized_sim.sim_1v1(adj, us, them)\n",
    "\n",
    "print((datetime.now() - then).total_seconds() / n)"
   ]
  },
  {
   "cell_type": "code",
   "execution_count": null,
   "metadata": {},
   "outputs": [
    {
     "name": "stdout",
     "output_type": "stream",
     "text": [
      "14.829986\n"
     ]
    }
   ],
   "source": [
    "G = get_graph_from_file(f'sample_graphs/RR.10.51.json')\n",
    "nodes = optimized_sim.create_nodes(nx.to_dict_of_lists(G))\n",
    "\n",
    "us = frozenset([\"6\", \"55\", \"163\", \"145\", \"2\", \"23\", \"107\", \"22\", \"148\", \"109\"])\n",
    "them = frozenset([\"23\", \"148\", \"163\", \"55\", \"139\", \"6\", \"109\", \"145\", \"2\", \"22\"])\n",
    "\n",
    "then = datetime.now()\n",
    "\n",
    "for _ in range(500):\n",
    "    _, _ = score_seeds_opt(us, them, nodes)\n",
    "\n",
    "print((datetime.now() - then).total_seconds())"
   ]
  },
  {
   "cell_type": "code",
   "execution_count": null,
   "metadata": {},
   "outputs": [],
   "source": [
    "0.0039139178000000005\n",
    "0.0042473716"
   ]
  },
  {
   "cell_type": "code",
   "execution_count": null,
   "metadata": {},
   "outputs": [
    {
     "data": {
      "text/plain": [
       "Counter({0: 1, 1: 1, 2: 1, 3: 1, 4: 1})"
      ]
     },
     "execution_count": 8,
     "metadata": {},
     "output_type": "execute_result"
    }
   ],
   "source": [
    "x = np.matrix([0,1,2,3,4])\n",
    "y = np.array(x)[0]\n",
    "\n",
    "t = Counter(y)\n",
    "t"
   ]
  },
  {
   "cell_type": "code",
   "execution_count": null,
   "metadata": {},
   "outputs": [],
   "source": []
  }
 ],
 "metadata": {
  "kernelspec": {
   "display_name": "base",
   "language": "python",
   "name": "python3"
  },
  "language_info": {
   "codemirror_mode": {
    "name": "ipython",
    "version": 3
   },
   "file_extension": ".py",
   "mimetype": "text/x-python",
   "name": "python",
   "nbconvert_exporter": "python",
   "pygments_lexer": "ipython3",
   "version": "3.9.12"
  },
  "orig_nbformat": 4,
  "vscode": {
   "interpreter": {
    "hash": "2c17cdae881039898e019dde816ef025ab5528b4115dbe62b08e3ff91b305481"
   }
  }
 },
 "nbformat": 4,
 "nbformat_minor": 2
}
