{
 "cells": [
  {
   "cell_type": "code",
   "execution_count": 21,
   "metadata": {},
   "outputs": [],
   "source": [
    "import networkx as nx\n",
    "import itertools\n",
    "import random\n",
    "import numpy as np\n",
    "from datetime import datetime\n",
    "from utils import *\n",
    "from tqdm import tqdm\n",
    "from scipy.sparse import dia_matrix\n",
    "from collections import Counter"
   ]
  },
  {
   "cell_type": "code",
   "execution_count": null,
   "metadata": {},
   "outputs": [],
   "source": [
    "!pip uninstall scipy -y\n",
    "!pip install scipy==1.8.0\n",
    "\n",
    "!pip uninstall networkx -y\n",
    "!pip install networkx==2.6"
   ]
  },
  {
   "cell_type": "code",
   "execution_count": null,
   "metadata": {},
   "outputs": [],
   "source": [
    "def super_secret_strategy(filename, n_seeds):\n",
    "  curr_time = datetime.now()\n",
    "  \n",
    "  G = get_graph_from_file(f'sample_graphs/{filename}')\n",
    "  c_deg = dict(G.degree())\n",
    "  degs = np.array(list(c_deg.values())) + 1\n",
    "  probs = degs / np.sum(degs)\n",
    "  nodes = optimized_sim.create_nodes(nx.to_dict_of_lists(G))\n",
    "  deg_nodes = sorted(c_deg.keys(), key=lambda x : c_deg[x], reverse=True)\n",
    "  print([(i, c_deg[i]) for i in deg_nodes])\n",
    "  deg_nodes = deg_nodes[:n_seeds]\n",
    "  print(f'Degree nodes: {deg_nodes}')\n",
    "\n",
    "  wins = {}\n",
    "  previously_tried = set()\n",
    "\n",
    "  while (datetime.now() - curr_time).total_seconds() < 10*60:\n",
    "    seed = frozenset(np.random.choice(G.nodes(), n_seeds, replace=False, p=probs))\n",
    "    \n",
    "    if seed not in previously_tried:\n",
    "      rand, deg = score_seeds_opt(seed, deg_nodes, nodes)\n",
    "      previously_tried.add(seed)\n",
    "      if rand > deg:\n",
    "        wins[seed] = rand\n",
    "        print(f'{seed} beat degrees {rand} to {deg}')\n",
    "\n",
    "  if len(wins) == 0:\n",
    "    return [frozenset(deg_nodes)]\n",
    "\n",
    "  return wins\n",
    "\n",
    "        "
   ]
  },
  {
   "cell_type": "code",
   "execution_count": null,
   "metadata": {},
   "outputs": [],
   "source": [
    "super_secret_strategy('RR.5.10.json', 5)"
   ]
  },
  {
   "cell_type": "code",
   "execution_count": null,
   "metadata": {},
   "outputs": [],
   "source": [
    "Gsmall = get_graph_from_file(f'sample_graphs/RR.5.10.json')\n",
    "btwn_small = nx.betweenness_centrality(Gsmall)\n",
    "most = sorted(Gsmall.nodes(), key=lambda x : btwn_small[x], reverse=True)\n",
    "print(most)"
   ]
  },
  {
   "cell_type": "code",
   "execution_count": null,
   "metadata": {},
   "outputs": [],
   "source": [
    "to_test = frozenset([\"35\", \"185\", \"220\", \"117\", \"125\"])\n",
    "deg_nodes = frozenset(['35', '185', '20', '125', '220'])\n",
    "nodes = optimized_sim.create_nodes(nx.to_dict_of_lists(get_graph_from_file(f'sample_graphs/RR.5.10.json')))\n",
    "\n",
    "winning_strats = [frozenset(['158', '185', '214', '286', '50']), frozenset(['125', '185', '187', '20', '279'])]\n",
    "\n",
    "for strat in winning_strats:\n",
    "    (us, them) = score_seeds_opt(strat, to_test, nodes)\n",
    "    print(us, them)"
   ]
  },
  {
   "cell_type": "code",
   "execution_count": null,
   "metadata": {},
   "outputs": [],
   "source": [
    "super_secret_strategy('RR.10.30.json', 10)"
   ]
  },
  {
   "cell_type": "code",
   "execution_count": null,
   "metadata": {},
   "outputs": [],
   "source": [
    "to_test = frozenset([\"155\", \"107\", \"121\", \"195\", \"133\", \"109\", \"137\", \"24\", \"28\", \"73\"])\n",
    "nodes = optimized_sim.create_nodes(nx.to_dict_of_lists(get_graph_from_file(f'sample_graphs/RR.10.30.json')))\n",
    "deg = frozenset(['155', '82', '8', '28', '96', '137', '9', '24', '73', '107'])\n",
    "winning_strats = [frozenset(['107', '82', '149', '96', '155', '109', '103', '121', '148', '20']), frozenset(['133', '202', '82', '201', '149', '4', '40', '109', '163', '137'])]\n",
    "\n",
    "for strat in winning_strats:\n",
    "    print(f'strat vs test: {score_seeds_opt(strat, to_test, nodes)}')"
   ]
  },
  {
   "cell_type": "code",
   "execution_count": null,
   "metadata": {},
   "outputs": [],
   "source": [
    "G = get_graph_from_file(f'sample_graphs/RR.10.30.json')\n",
    "perc = {v : nx.local_reaching_centrality(G, v) for v in G.nodes()}\n",
    "perc = sorted(G.nodes(), key=lambda x : perc[x], reverse=True)[:10]\n",
    "print(perc)"
   ]
  },
  {
   "cell_type": "code",
   "execution_count": null,
   "metadata": {},
   "outputs": [],
   "source": [
    "vr = nx.voterank(G)[:10]\n",
    "print(vr)"
   ]
  },
  {
   "cell_type": "code",
   "execution_count": null,
   "metadata": {},
   "outputs": [],
   "source": [
    "btwn = nx.betweenness_centrality(G)\n",
    "most = sorted(G.nodes(), key=lambda x : btwn[x], reverse=True)[:10]\n",
    "print(most)"
   ]
  },
  {
   "cell_type": "code",
   "execution_count": null,
   "metadata": {},
   "outputs": [],
   "source": [
    "res = nx.katz_centrality(G)\n",
    "katz = sorted(G.nodes(), key=lambda x : res[x], reverse=True)[:10]\n",
    "print(katz)"
   ]
  },
  {
   "cell_type": "code",
   "execution_count": null,
   "metadata": {},
   "outputs": [],
   "source": [
    "test = np.zeros(5)\n",
    "print(test)\n",
    "\n",
    "pts = frozenset([1,2])\n",
    "pts2 = frozenset([1,2])\n",
    "\n",
    "test[list(pts)] += 1\n",
    "print(test)\n",
    "\n",
    "test[list(pts)] -= 1\n",
    "print(test)\n",
    "\n",
    "print(pts == pts2)"
   ]
  },
  {
   "cell_type": "code",
   "execution_count": null,
   "metadata": {},
   "outputs": [],
   "source": [
    "test == None"
   ]
  },
  {
   "cell_type": "code",
   "execution_count": null,
   "metadata": {},
   "outputs": [],
   "source": [
    "np.sign(np.array([0,2,-5]))"
   ]
  },
  {
   "cell_type": "code",
   "execution_count": null,
   "metadata": {},
   "outputs": [],
   "source": [
    "G = get_graph_from_file(f'competition_graphs/sunday1/RR.10.30.json')"
   ]
  },
  {
   "cell_type": "code",
   "execution_count": null,
   "metadata": {},
   "outputs": [],
   "source": [
    "dia = 1.5 * np.ones(G.order())\n",
    "adj = nx.adjacency_matrix(G) + np.diag(dia)\n"
   ]
  },
  {
   "cell_type": "code",
   "execution_count": 21,
   "metadata": {},
   "outputs": [
    {
     "name": "stdout",
     "output_type": "stream",
     "text": [
      "100 99\n"
     ]
    }
   ],
   "source": [
    "us = frozenset([96, 8, 9, 137, 107, 59, 109, 82, 24, 155])\n",
    "us2 = frozenset([96, 36, 137, 9, 107, 109, 16, 24, 155, 28])\n",
    "them = frozenset([155, 107, 121, 195, 133, 109, 137, 24, 28, 73])\n",
    "\n",
    "\n",
    "res1, res2 = optimized_sim.sim_1v1(adj, us2, them)\n",
    "print(res1, res2)"
   ]
  },
  {
   "cell_type": "code",
   "execution_count": null,
   "metadata": {},
   "outputs": [
    {
     "name": "stdout",
     "output_type": "stream",
     "text": [
      "0.0078873268\n"
     ]
    }
   ],
   "source": [
    "then = datetime.now()\n",
    "n = 5000\n",
    "\n",
    "for _ in range(n):\n",
    "    _, _ = optimized_sim.sim_1v1(adj, us, them)\n",
    "\n",
    "print((datetime.now() - then).total_seconds() / n)"
   ]
  },
  {
   "cell_type": "code",
   "execution_count": null,
   "metadata": {},
   "outputs": [
    {
     "name": "stdout",
     "output_type": "stream",
     "text": [
      "14.829986\n"
     ]
    }
   ],
   "source": [
    "G = get_graph_from_file(f'sample_graphs/RR.10.51.json')\n",
    "nodes = optimized_sim.create_nodes(nx.to_dict_of_lists(G))\n",
    "\n",
    "us = frozenset([\"6\", \"55\", \"163\", \"145\", \"2\", \"23\", \"107\", \"22\", \"148\", \"109\"])\n",
    "them = frozenset([\"23\", \"148\", \"163\", \"55\", \"139\", \"6\", \"109\", \"145\", \"2\", \"22\"])\n",
    "\n",
    "then = datetime.now()\n",
    "\n",
    "for _ in range(500):\n",
    "    _, _ = score_seeds_opt(us, them, nodes)\n",
    "\n",
    "print((datetime.now() - then).total_seconds())"
   ]
  },
  {
   "cell_type": "code",
   "execution_count": null,
   "metadata": {},
   "outputs": [],
   "source": [
    "0.0039139178000000005\n",
    "0.0042473716"
   ]
  },
  {
   "cell_type": "code",
   "execution_count": null,
   "metadata": {},
   "outputs": [
    {
     "data": {
      "text/plain": [
       "Counter({0: 1, 1: 1, 2: 1, 3: 1, 4: 1})"
      ]
     },
     "execution_count": 8,
     "metadata": {},
     "output_type": "execute_result"
    }
   ],
   "source": [
    "x = np.matrix([0,1,2,3,4])\n",
    "y = np.array(x)[0]\n",
    "\n",
    "t = Counter(y)\n",
    "t"
   ]
  },
  {
   "cell_type": "code",
   "execution_count": 38,
   "metadata": {},
   "outputs": [
    {
     "name": "stdout",
     "output_type": "stream",
     "text": [
      "['570', '125', '54', '323', '20', '422', '542', '75', '147', '148', '162', '182', '321', '337', '343', '353', '375', '458', '584', '615', '656', '33', '72', '143', '168', '169', '206', '209', '251', '272', '274', '279', '297', '324', '332', '366', '390', '459', '473', '499', '548', '555', '561', '601', '613', '622', '634', '638', '659', '686', '690', '24', '26', '29', '37', '62', '71', '131', '157', '166', '172', '184', '189', '224', '231', '249', '261', '265', '304', '350', '354', '365', '367', '381', '382', '391', '394', '418', '441', '466', '486', '510', '535', '608', '623', '632', '644', '650', '685', '6', '9', '12', '36', '38', '81', '84', '87', '104', '142', '150', '175', '185', '197', '219', '221', '229', '235', '238', '244', '250', '256', '277', '285', '288', '326', '327', '336', '349', '355', '363', '369', '372', '388', '415', '420', '431', '436', '445', '446', '449', '451', '453', '464', '469', '476', '484', '489', '492', '506', '512', '517', '523', '527', '545', '549', '554', '566', '574', '582', '591', '595', '598', '617', '626', '637', '640', '676', '678', '7', '8', '10', '19', '25', '27', '35', '52', '59', '61', '66', '73', '91', '107', '116', '117', '122', '130', '132', '139', '144', '153', '164', '174', '179', '186', '191', '200', '202', '203', '212', '215', '218', '220', '232', '240', '252', '254', '259', '260', '262', '267', '269', '278', '280', '296', '298', '309', '340', '341', '346', '351', '371', '373', '380', '383', '385', '396', '397', '398', '404', '414', '423', '427', '429', '434', '442', '444', '452', '470', '479', '496', '500', '503', '515', '525', '539', '553', '563', '576', '581', '585', '586', '588', '593', '599', '616', '635', '649', '655', '680', '687', '689', '2', '15', '16', '18', '23', '43', '44', '49', '50', '51', '57', '60', '63', '64', '65', '70', '78', '82', '86', '88', '89', '96', '101', '108', '111', '112', '114', '115', '118', '119', '123', '135', '140', '141', '145', '149', '159', '160', '161', '165', '170', '187', '192', '198', '208', '211', '216', '217', '222', '233', '253', '255', '264', '270', '276', '290', '300', '303', '305', '307', '311', '318', '335', '347', '356', '359', '364', '368', '374', '379', '392', '395', '403', '409', '413', '416', '426', '428', '437', '443', '447', '467', '480', '482', '490', '493', '494', '498', '501', '504', '505', '511', '521', '526', '530', '534', '537', '551', '556', '572', '578', '579', '583', '587', '597', '600', '603', '610', '611', '612', '614', '630', '643', '645', '653', '658', '663', '664', '670', '672', '673', '4', '5', '17', '22', '28', '30', '32', '34', '39', '40', '45', '47', '48', '53', '56', '67', '76', '93', '95', '99', '102', '109', '113', '124', '127', '129', '136', '138', '152', '154', '163', '167', '173', '177', '178', '181', '183', '188', '190', '193', '205', '213', '223', '226', '239', '271', '282', '283', '287', '291', '294', '306', '308', '312', '313', '314', '315', '320', '329', '330', '333', '342', '348', '352', '357', '358', '376', '377', '386', '387', '389', '401', '408', '410', '411', '419', '421', '435', '438', '439', '440', '448', '450', '454', '456', '457', '463', '468', '474', '475', '477', '478', '481', '483', '488', '502', '508', '518', '520', '544', '547', '550', '552', '558', '562', '564', '567', '571', '575', '577', '580', '590', '596', '602', '606', '607', '609', '618', '619', '620', '621', '627', '631', '633', '639', '641', '657', '660', '661', '662', '668', '674', '677', '679', '681', '684', '688', '0', '13', '21', '41', '46', '58', '69', '77', '80', '83', '85', '98', '103', '105', '106', '110', '120', '128', '158', '176', '194', '199', '201', '210', '214', '228', '230', '234', '237', '241', '242', '243', '245', '246', '247', '248', '258', '263', '266', '268', '275', '281', '284', '286', '292', '295', '299', '302', '316', '317', '319', '322', '325', '328', '331', '334', '338', '344', '345', '360', '362', '384', '393', '400', '407', '412', '417', '433', '471', '487', '507', '509', '513', '516', '519', '528', '529', '533', '560', '565', '568', '589', '592', '605', '624', '625', '628', '636', '646', '647', '651', '665', '683', '1', '11', '14', '31', '42', '55', '68', '79', '90', '92', '97', '100', '133', '134', '137', '146', '151', '155', '156', '171', '180', '195', '225', '236', '257', '301', '310', '361', '370', '399', '402', '405', '406', '424', '425', '455', '462', '465', '491', '495', '497', '514', '522', '524', '532', '536', '538', '540', '541', '543', '557', '559', '594', '604', '629', '642', '654', '667', '669', '682', '691', '692', '74', '94', '121', '196', '204', '207', '227', '273', '289', '293', '339', '378', '430', '432', '460', '461', '472', '485', '546', '569', '573', '648', '666', '671', '3', '126', '531', '652', '675']\n"
     ]
    },
    {
     "name": "stderr",
     "output_type": "stream",
     "text": [
      "/var/folders/bn/hf8434b56gngl4004d8wcfx40000gn/T/ipykernel_59528/107046314.py:3: FutureWarning: adjacency_matrix will return a scipy.sparse array instead of a matrix in Networkx 3.0.\n",
      "  adj = nx.adjacency_matrix(G) + np.diag(dia)\n"
     ]
    }
   ],
   "source": [
    "G = get_graph_from_file(f'sample_graphs/RR.10.16.json')\n",
    "dia = 1.5 * np.ones(G.order())\n",
    "adj = nx.adjacency_matrix(G) + np.diag(dia)\n",
    "\n",
    "degrees = dict(nx.degree(G))\n",
    "sorted_deg = sorted(degrees.keys(), key=lambda x : degrees[x], reverse=True)\n",
    "\n",
    "print(sorted_deg)"
   ]
  },
  {
   "cell_type": "code",
   "execution_count": 39,
   "metadata": {},
   "outputs": [
    {
     "name": "stdout",
     "output_type": "stream",
     "text": [
      "355 319\n"
     ]
    }
   ],
   "source": [
    "us = frozenset([162, 54, 323, 33, 148, 570, 542, 251, 125, 297])\n",
    "them = frozenset([561, 182, 458, 542, 54, 147, 570, 323, 20, 125])\n",
    "us2 = frozenset([7, 59, 13, 4, 57, 30, 34, 61, 51, 9])\n",
    "\n",
    "\n",
    "res1, res2 = optimized_sim.sim_1v1(adj, us, them)\n",
    "print(res1, res2)"
   ]
  },
  {
   "cell_type": "code",
   "execution_count": null,
   "metadata": {},
   "outputs": [],
   "source": []
  }
 ],
 "metadata": {
  "kernelspec": {
   "display_name": "base",
   "language": "python",
   "name": "python3"
  },
  "language_info": {
   "codemirror_mode": {
    "name": "ipython",
    "version": 3
   },
   "file_extension": ".py",
   "mimetype": "text/x-python",
   "name": "python",
   "nbconvert_exporter": "python",
   "pygments_lexer": "ipython3",
   "version": "3.9.16"
  },
  "orig_nbformat": 4,
  "vscode": {
   "interpreter": {
    "hash": "2c17cdae881039898e019dde816ef025ab5528b4115dbe62b08e3ff91b305481"
   }
  }
 },
 "nbformat": 4,
 "nbformat_minor": 2
}
