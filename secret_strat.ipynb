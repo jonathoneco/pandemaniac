{
 "cells": [
  {
   "cell_type": "code",
   "execution_count": null,
   "metadata": {},
   "outputs": [],
   "source": [
    "import networkx as nx\n",
    "import itertools\n",
    "import random\n",
    "import numpy as np\n",
    "from datetime import datetime\n",
    "from utils import *\n",
    "from tqdm import tqdm\n",
    "from scipy.sparse import dia_matrix\n",
    "from collections import Counter"
   ]
  },
  {
   "cell_type": "code",
   "execution_count": null,
   "metadata": {},
   "outputs": [],
   "source": [
    "!pip uninstall scipy -y\n",
    "!pip install scipy==1.8.0\n",
    "\n",
    "!pip uninstall networkx -y\n",
    "!pip install networkx==2.6"
   ]
  },
  {
   "cell_type": "code",
   "execution_count": null,
   "metadata": {},
   "outputs": [],
   "source": [
    "def super_secret_strategy(filename, n_seeds):\n",
    "  curr_time = datetime.now()\n",
    "  \n",
    "  G = get_graph_from_file(f'sample_graphs/{filename}')\n",
    "  c_deg = dict(G.degree())\n",
    "  degs = np.array(list(c_deg.values())) + 1\n",
    "  probs = degs / np.sum(degs)\n",
    "  nodes = optimized_sim.create_nodes(nx.to_dict_of_lists(G))\n",
    "  deg_nodes = sorted(c_deg.keys(), key=lambda x : c_deg[x], reverse=True)\n",
    "  print([(i, c_deg[i]) for i in deg_nodes])\n",
    "  deg_nodes = deg_nodes[:n_seeds]\n",
    "  print(f'Degree nodes: {deg_nodes}')\n",
    "\n",
    "  wins = {}\n",
    "  previously_tried = set()\n",
    "\n",
    "  while (datetime.now() - curr_time).total_seconds() < 10*60:\n",
    "    seed = frozenset(np.random.choice(G.nodes(), n_seeds, replace=False, p=probs))\n",
    "    \n",
    "    if seed not in previously_tried:\n",
    "      rand, deg = score_seeds_opt(seed, deg_nodes, nodes)\n",
    "      previously_tried.add(seed)\n",
    "      if rand > deg:\n",
    "        wins[seed] = rand\n",
    "        print(f'{seed} beat degrees {rand} to {deg}')\n",
    "\n",
    "  if len(wins) == 0:\n",
    "    return [frozenset(deg_nodes)]\n",
    "\n",
    "  return wins\n",
    "\n",
    "        "
   ]
  },
  {
   "cell_type": "code",
   "execution_count": null,
   "metadata": {},
   "outputs": [],
   "source": [
    "super_secret_strategy('RR.5.10.json', 5)"
   ]
  },
  {
   "cell_type": "code",
   "execution_count": null,
   "metadata": {},
   "outputs": [],
   "source": [
    "Gsmall = get_graph_from_file(f'sample_graphs/RR.5.10.json')\n",
    "btwn_small = nx.betweenness_centrality(Gsmall)\n",
    "most = sorted(Gsmall.nodes(), key=lambda x : btwn_small[x], reverse=True)\n",
    "print(most)"
   ]
  },
  {
   "cell_type": "code",
   "execution_count": null,
   "metadata": {},
   "outputs": [],
   "source": [
    "to_test = frozenset([\"35\", \"185\", \"220\", \"117\", \"125\"])\n",
    "deg_nodes = frozenset(['35', '185', '20', '125', '220'])\n",
    "nodes = optimized_sim.create_nodes(nx.to_dict_of_lists(get_graph_from_file(f'sample_graphs/RR.5.10.json')))\n",
    "\n",
    "winning_strats = [frozenset(['158', '185', '214', '286', '50']), frozenset(['125', '185', '187', '20', '279'])]\n",
    "\n",
    "for strat in winning_strats:\n",
    "    (us, them) = score_seeds_opt(strat, to_test, nodes)\n",
    "    print(us, them)"
   ]
  },
  {
   "cell_type": "code",
   "execution_count": null,
   "metadata": {},
   "outputs": [],
   "source": [
    "super_secret_strategy('RR.10.30.json', 10)"
   ]
  },
  {
   "cell_type": "code",
   "execution_count": null,
   "metadata": {},
   "outputs": [],
   "source": [
    "to_test = frozenset([\"155\", \"107\", \"121\", \"195\", \"133\", \"109\", \"137\", \"24\", \"28\", \"73\"])\n",
    "nodes = optimized_sim.create_nodes(nx.to_dict_of_lists(get_graph_from_file(f'sample_graphs/RR.10.30.json')))\n",
    "deg = frozenset(['155', '82', '8', '28', '96', '137', '9', '24', '73', '107'])\n",
    "winning_strats = [frozenset(['107', '82', '149', '96', '155', '109', '103', '121', '148', '20']), frozenset(['133', '202', '82', '201', '149', '4', '40', '109', '163', '137'])]\n",
    "\n",
    "for strat in winning_strats:\n",
    "    print(f'strat vs test: {score_seeds_opt(strat, to_test, nodes)}')"
   ]
  },
  {
   "cell_type": "code",
   "execution_count": null,
   "metadata": {},
   "outputs": [],
   "source": [
    "G = get_graph_from_file(f'sample_graphs/RR.10.30.json')\n",
    "perc = {v : nx.local_reaching_centrality(G, v) for v in G.nodes()}\n",
    "perc = sorted(G.nodes(), key=lambda x : perc[x], reverse=True)[:10]\n",
    "print(perc)"
   ]
  },
  {
   "cell_type": "code",
   "execution_count": null,
   "metadata": {},
   "outputs": [],
   "source": [
    "vr = nx.voterank(G)[:10]\n",
    "print(vr)"
   ]
  },
  {
   "cell_type": "code",
   "execution_count": null,
   "metadata": {},
   "outputs": [],
   "source": [
    "btwn = nx.betweenness_centrality(G)\n",
    "most = sorted(G.nodes(), key=lambda x : btwn[x], reverse=True)[:10]\n",
    "print(most)"
   ]
  },
  {
   "cell_type": "code",
   "execution_count": null,
   "metadata": {},
   "outputs": [],
   "source": [
    "res = nx.katz_centrality(G)\n",
    "katz = sorted(G.nodes(), key=lambda x : res[x], reverse=True)[:10]\n",
    "print(katz)"
   ]
  },
  {
   "cell_type": "code",
   "execution_count": null,
   "metadata": {},
   "outputs": [],
   "source": [
    "test = np.zeros(5)\n",
    "print(test)\n",
    "\n",
    "pts = frozenset([1,2])\n",
    "pts2 = frozenset([1,2])\n",
    "\n",
    "test[list(pts)] += 1\n",
    "print(test)\n",
    "\n",
    "test[list(pts)] -= 1\n",
    "print(test)\n",
    "\n",
    "print(pts == pts2)"
   ]
  },
  {
   "cell_type": "code",
   "execution_count": null,
   "metadata": {},
   "outputs": [],
   "source": [
    "test == None"
   ]
  },
  {
   "cell_type": "code",
   "execution_count": null,
   "metadata": {},
   "outputs": [],
   "source": [
    "np.sign(np.array([0,2,-5]))"
   ]
  },
  {
   "cell_type": "code",
   "execution_count": null,
   "metadata": {},
   "outputs": [],
   "source": [
    "G = get_graph_from_file(f'competition_graphs/sunday1/RR.10.30.json')"
   ]
  },
  {
   "cell_type": "code",
   "execution_count": null,
   "metadata": {},
   "outputs": [],
   "source": [
    "dia = 1.5 * np.ones(G.order())\n",
    "adj = nx.adjacency_matrix(G) + np.diag(dia)\n"
   ]
  },
  {
   "cell_type": "code",
   "execution_count": 21,
   "metadata": {},
   "outputs": [
    {
     "name": "stdout",
     "output_type": "stream",
     "text": [
      "100 99\n"
     ]
    }
   ],
   "source": [
    "us = frozenset([96, 8, 9, 137, 107, 59, 109, 82, 24, 155])\n",
    "us2 = frozenset([96, 36, 137, 9, 107, 109, 16, 24, 155, 28])\n",
    "them = frozenset([155, 107, 121, 195, 133, 109, 137, 24, 28, 73])\n",
    "\n",
    "\n",
    "res1, res2 = optimized_sim.sim_1v1(adj, us2, them)\n",
    "print(res1, res2)"
   ]
  },
  {
   "cell_type": "code",
   "execution_count": null,
   "metadata": {},
   "outputs": [
    {
     "name": "stdout",
     "output_type": "stream",
     "text": [
      "0.0078873268\n"
     ]
    }
   ],
   "source": [
    "then = datetime.now()\n",
    "n = 5000\n",
    "\n",
    "for _ in range(n):\n",
    "    _, _ = optimized_sim.sim_1v1(adj, us, them)\n",
    "\n",
    "print((datetime.now() - then).total_seconds() / n)"
   ]
  },
  {
   "cell_type": "code",
   "execution_count": null,
   "metadata": {},
   "outputs": [
    {
     "name": "stdout",
     "output_type": "stream",
     "text": [
      "14.829986\n"
     ]
    }
   ],
   "source": [
    "G = get_graph_from_file(f'sample_graphs/RR.10.51.json')\n",
    "nodes = optimized_sim.create_nodes(nx.to_dict_of_lists(G))\n",
    "\n",
    "us = frozenset([\"6\", \"55\", \"163\", \"145\", \"2\", \"23\", \"107\", \"22\", \"148\", \"109\"])\n",
    "them = frozenset([\"23\", \"148\", \"163\", \"55\", \"139\", \"6\", \"109\", \"145\", \"2\", \"22\"])\n",
    "\n",
    "then = datetime.now()\n",
    "\n",
    "for _ in range(500):\n",
    "    _, _ = score_seeds_opt(us, them, nodes)\n",
    "\n",
    "print((datetime.now() - then).total_seconds())"
   ]
  },
  {
   "cell_type": "code",
   "execution_count": null,
   "metadata": {},
   "outputs": [],
   "source": [
    "0.0039139178000000005\n",
    "0.0042473716"
   ]
  },
  {
   "cell_type": "code",
   "execution_count": null,
   "metadata": {},
   "outputs": [
    {
     "data": {
      "text/plain": [
       "Counter({0: 1, 1: 1, 2: 1, 3: 1, 4: 1})"
      ]
     },
     "execution_count": 8,
     "metadata": {},
     "output_type": "execute_result"
    }
   ],
   "source": [
    "x = np.matrix([0,1,2,3,4])\n",
    "y = np.array(x)[0]\n",
    "\n",
    "t = Counter(y)\n",
    "t"
   ]
  },
  {
   "cell_type": "code",
   "execution_count": null,
   "metadata": {},
   "outputs": [],
   "source": []
  }
 ],
 "metadata": {
  "kernelspec": {
   "display_name": "cs144",
   "language": "python",
   "name": "cs144"
  },
  "language_info": {
   "codemirror_mode": {
    "name": "ipython",
    "version": 3
   },
   "file_extension": ".py",
   "mimetype": "text/x-python",
   "name": "python",
   "nbconvert_exporter": "python",
   "pygments_lexer": "ipython3",
   "version": "3.10.9"
  },
  "orig_nbformat": 4,
  "vscode": {
   "interpreter": {
    "hash": "2c17cdae881039898e019dde816ef025ab5528b4115dbe62b08e3ff91b305481"
   }
  }
 },
 "nbformat": 4,
 "nbformat_minor": 2
}
