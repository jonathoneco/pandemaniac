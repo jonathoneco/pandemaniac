{
 "cells": [
  {
   "cell_type": "code",
   "execution_count": 2,
   "metadata": {},
   "outputs": [],
   "source": [
    "import networkx as nx\n",
    "import numpy as np\n",
    "import json\n",
    "from utils import *\n"
   ]
  },
  {
   "cell_type": "code",
   "execution_count": null,
   "metadata": {},
   "outputs": [],
   "source": [
    "G = get_graph_from_file(\"sample_graphs/J.5.1.json\")\n",
    "G.order()"
   ]
  },
  {
   "cell_type": "code",
   "execution_count": null,
   "metadata": {},
   "outputs": [],
   "source": [
    "# G = get_graph_from_file(\"sample_graphs/RR.5.1.json\")\n",
    "# G.order()"
   ]
  },
  {
   "cell_type": "code",
   "execution_count": null,
   "metadata": {},
   "outputs": [],
   "source": [
    "ordering = compete(50, G, 50)\n",
    "print(\"Top Seeds: \", ordering[:3])"
   ]
  },
  {
   "cell_type": "code",
   "execution_count": null,
   "metadata": {},
   "outputs": [],
   "source": [
    "ordering[0]"
   ]
  },
  {
   "cell_type": "code",
   "execution_count": null,
   "metadata": {},
   "outputs": [],
   "source": [
    "import sklearn.cluster as cluster\n",
    "\n",
    "adj_matrix = nx.adjacency_matrix(G)\n",
    "X = np.array(adj_matrix.todense())\n",
    "\n",
    "kmeans = cluster.KMeans(n_clusters=2)\n",
    "kmeans.fit(X)\n",
    "\n",
    "cluster_labels = kmeans.labels_\n",
    "\n",
    "from collections import Counter\n",
    "# Get a dictionary that maps cluster labels to node indices\n",
    "cluster_dict = dict(zip(G.nodes(), cluster_labels))\n",
    "\n",
    "# Count the number of nodes in each cluster\n",
    "cluster_counts = Counter(cluster_labels)\n",
    "\n",
    "# Get the label of the largest cluster\n",
    "largest_cluster_label = max(cluster_counts, key=cluster_counts.get)\n",
    "\n",
    "# Get the nodes that belong to the largest cluster\n",
    "largest_cluster_nodes = [node for node, label in cluster_dict.items() if label == largest_cluster_label]\n",
    "\n",
    "largest_cluster_degree_centralities = {node: degree_centralities[node] for node in largest_cluster_nodes}"
   ]
  },
  {
   "cell_type": "code",
   "execution_count": 6,
   "metadata": {},
   "outputs": [
    {
     "data": {
      "text/plain": [
       "frozenset({1, 2, 3})"
      ]
     },
     "execution_count": 6,
     "metadata": {},
     "output_type": "execute_result"
    }
   ],
   "source": [
    "frozenset(frozenset([1, 2, 3]))"
   ]
  },
  {
   "cell_type": "code",
   "execution_count": 25,
   "metadata": {},
   "outputs": [],
   "source": [
    "G = get_graph_from_file(\"competition_graphs/RR.10.50.json\")\n",
    "nodes = max(nx.connected_components(G), key=len)\n",
    "H = nx.subgraph(G, nodes)\n",
    "adj_list = nx.to_dict_of_lists(G)"
   ]
  },
  {
   "cell_type": "code",
   "execution_count": 16,
   "metadata": {},
   "outputs": [],
   "source": [
    "centrality = nx.edge_current_flow_betweenness_centrality(H)"
   ]
  },
  {
   "cell_type": "code",
   "execution_count": 19,
   "metadata": {},
   "outputs": [],
   "source": [
    "from collections import defaultdict"
   ]
  },
  {
   "cell_type": "code",
   "execution_count": 20,
   "metadata": {},
   "outputs": [],
   "source": [
    "total = defaultdict(float)\n",
    "for vertices, cent in centrality.items():\n",
    "    u, v = vertices\n",
    "    total[u] += cent\n",
    "    total[v] += cent\n"
   ]
  },
  {
   "cell_type": "code",
   "execution_count": 22,
   "metadata": {},
   "outputs": [],
   "source": [
    "\n"
   ]
  },
  {
   "cell_type": "code",
   "execution_count": 26,
   "metadata": {},
   "outputs": [
    {
     "data": {
      "text/plain": [
       "(260.0, 233.0)"
      ]
     },
     "execution_count": 26,
     "metadata": {},
     "output_type": "execute_result"
    }
   ],
   "source": [
    "other = np.array([\"3\", \"165\", \"189\", \"87\", \"130\", \"164\", \"183\", \"6\", \"80\", \"101\"])\n",
    "ours = [key for key, value in sorted(total.items(), key=lambda x: x[1], reverse=True)[:10]]\n",
    "# ours = np.array(['20', '7', '15', '80', '150', '40', '30', '25', '90', '1'])\n",
    "nodes = optimized_sim.create_nodes(adj_list)\n",
    "score_seeds_opt(other, ours, nodes)"
   ]
  },
  {
   "cell_type": "code",
   "execution_count": null,
   "metadata": {},
   "outputs": [],
   "source": []
  }
 ],
 "metadata": {
  "kernelspec": {
   "display_name": "cs144",
   "language": "python",
   "name": "cs144"
  },
  "language_info": {
   "codemirror_mode": {
    "name": "ipython",
    "version": 3
   },
   "file_extension": ".py",
   "mimetype": "text/x-python",
   "name": "python",
   "nbconvert_exporter": "python",
   "pygments_lexer": "ipython3",
   "version": "3.10.9"
  },
  "orig_nbformat": 4,
  "vscode": {
   "interpreter": {
    "hash": "38cca0c38332a56087b24af0bc80247f4fced29cb4f7f437d91dc159adec9c4e"
   }
  }
 },
 "nbformat": 4,
 "nbformat_minor": 2
}
