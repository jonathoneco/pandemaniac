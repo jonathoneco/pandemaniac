{
 "cells": [
  {
   "cell_type": "code",
   "execution_count": 2,
   "metadata": {},
   "outputs": [],
   "source": [
    "import networkx as nx\n",
    "import numpy as np\n",
    "import json\n"
   ]
  },
  {
   "cell_type": "code",
   "execution_count": 9,
   "metadata": {},
   "outputs": [],
   "source": [
    "with open('sample_graphs/J.5.1.json', \"r\") as graphjson:\n",
    "    adj_list = json.load(graphjson)"
   ]
  },
  {
   "cell_type": "code",
   "execution_count": 10,
   "metadata": {},
   "outputs": [
    {
     "ename": "AttributeError",
     "evalue": "'str' object has no attribute 'decode'",
     "output_type": "error",
     "traceback": [
      "\u001b[0;31m---------------------------------------------------------------------------\u001b[0m",
      "\u001b[0;31mAttributeError\u001b[0m                            Traceback (most recent call last)",
      "\u001b[1;32m/Users/jonco/CS/CS 144/pandemaniac/test_shit.ipynb Cell 3\u001b[0m in \u001b[0;36m<cell line: 1>\u001b[0;34m()\u001b[0m\n\u001b[0;32m----> <a href='vscode-notebook-cell:/Users/jonco/CS/CS%20144/pandemaniac/test_shit.ipynb#W3sZmlsZQ%3D%3D?line=0'>1</a>\u001b[0m nx\u001b[39m.\u001b[39;49mread_adjlist(adj_list)\n",
      "File \u001b[0;32m<class 'networkx.utils.decorators.argmap'> compilation 5:5\u001b[0m, in \u001b[0;36margmap_read_adjlist_1\u001b[0;34m(path, comments, delimiter, create_using, nodetype, encoding)\u001b[0m\n\u001b[1;32m      3\u001b[0m \u001b[39mfrom\u001b[39;00m \u001b[39mcontextlib\u001b[39;00m \u001b[39mimport\u001b[39;00m contextmanager\n\u001b[1;32m      4\u001b[0m \u001b[39mfrom\u001b[39;00m \u001b[39mpathlib\u001b[39;00m \u001b[39mimport\u001b[39;00m Path\n\u001b[0;32m----> 5\u001b[0m \u001b[39mimport\u001b[39;00m \u001b[39mwarnings\u001b[39;00m\n\u001b[1;32m      7\u001b[0m \u001b[39mimport\u001b[39;00m \u001b[39mnetworkx\u001b[39;00m \u001b[39mas\u001b[39;00m \u001b[39mnx\u001b[39;00m\n\u001b[1;32m      8\u001b[0m \u001b[39mfrom\u001b[39;00m \u001b[39mnetworkx\u001b[39;00m\u001b[39m.\u001b[39;00m\u001b[39mutils\u001b[39;00m \u001b[39mimport\u001b[39;00m create_random_state, create_py_random_state\n",
      "File \u001b[0;32m/opt/homebrew/anaconda3/lib/python3.9/site-packages/networkx/readwrite/adjlist.py:290\u001b[0m, in \u001b[0;36mread_adjlist\u001b[0;34m(path, comments, delimiter, create_using, nodetype, encoding)\u001b[0m\n\u001b[1;32m    222\u001b[0m \u001b[39m\"\"\"Read graph in adjacency list format from path.\u001b[39;00m\n\u001b[1;32m    223\u001b[0m \n\u001b[1;32m    224\u001b[0m \u001b[39mParameters\u001b[39;00m\n\u001b[0;32m   (...)\u001b[0m\n\u001b[1;32m    287\u001b[0m \u001b[39mwrite_adjlist\u001b[39;00m\n\u001b[1;32m    288\u001b[0m \u001b[39m\"\"\"\u001b[39;00m\n\u001b[1;32m    289\u001b[0m lines \u001b[39m=\u001b[39m (line\u001b[39m.\u001b[39mdecode(encoding) \u001b[39mfor\u001b[39;00m line \u001b[39min\u001b[39;00m path)\n\u001b[0;32m--> 290\u001b[0m \u001b[39mreturn\u001b[39;00m parse_adjlist(\n\u001b[1;32m    291\u001b[0m     lines,\n\u001b[1;32m    292\u001b[0m     comments\u001b[39m=\u001b[39;49mcomments,\n\u001b[1;32m    293\u001b[0m     delimiter\u001b[39m=\u001b[39;49mdelimiter,\n\u001b[1;32m    294\u001b[0m     create_using\u001b[39m=\u001b[39;49mcreate_using,\n\u001b[1;32m    295\u001b[0m     nodetype\u001b[39m=\u001b[39;49mnodetype,\n\u001b[1;32m    296\u001b[0m )\n",
      "File \u001b[0;32m/opt/homebrew/anaconda3/lib/python3.9/site-packages/networkx/readwrite/adjlist.py:184\u001b[0m, in \u001b[0;36mparse_adjlist\u001b[0;34m(lines, comments, delimiter, create_using, nodetype)\u001b[0m\n\u001b[1;32m    143\u001b[0m \u001b[39m\"\"\"Parse lines of a graph adjacency list representation.\u001b[39;00m\n\u001b[1;32m    144\u001b[0m \n\u001b[1;32m    145\u001b[0m \u001b[39mParameters\u001b[39;00m\n\u001b[0;32m   (...)\u001b[0m\n\u001b[1;32m    181\u001b[0m \n\u001b[1;32m    182\u001b[0m \u001b[39m\"\"\"\u001b[39;00m\n\u001b[1;32m    183\u001b[0m G \u001b[39m=\u001b[39m nx\u001b[39m.\u001b[39mempty_graph(\u001b[39m0\u001b[39m, create_using)\n\u001b[0;32m--> 184\u001b[0m \u001b[39mfor\u001b[39;00m line \u001b[39min\u001b[39;00m lines:\n\u001b[1;32m    185\u001b[0m     p \u001b[39m=\u001b[39m line\u001b[39m.\u001b[39mfind(comments)\n\u001b[1;32m    186\u001b[0m     \u001b[39mif\u001b[39;00m p \u001b[39m>\u001b[39m\u001b[39m=\u001b[39m \u001b[39m0\u001b[39m:\n",
      "File \u001b[0;32m/opt/homebrew/anaconda3/lib/python3.9/site-packages/networkx/readwrite/adjlist.py:289\u001b[0m, in \u001b[0;36m<genexpr>\u001b[0;34m(.0)\u001b[0m\n\u001b[1;32m    213\u001b[0m \u001b[39m@open_file\u001b[39m(\u001b[39m0\u001b[39m, mode\u001b[39m=\u001b[39m\u001b[39m\"\u001b[39m\u001b[39mrb\u001b[39m\u001b[39m\"\u001b[39m)\n\u001b[1;32m    214\u001b[0m \u001b[39mdef\u001b[39;00m \u001b[39mread_adjlist\u001b[39m(\n\u001b[1;32m    215\u001b[0m     path,\n\u001b[0;32m   (...)\u001b[0m\n\u001b[1;32m    220\u001b[0m     encoding\u001b[39m=\u001b[39m\u001b[39m\"\u001b[39m\u001b[39mutf-8\u001b[39m\u001b[39m\"\u001b[39m,\n\u001b[1;32m    221\u001b[0m ):\n\u001b[1;32m    222\u001b[0m     \u001b[39m\"\"\"Read graph in adjacency list format from path.\u001b[39;00m\n\u001b[1;32m    223\u001b[0m \n\u001b[1;32m    224\u001b[0m \u001b[39m    Parameters\u001b[39;00m\n\u001b[0;32m   (...)\u001b[0m\n\u001b[1;32m    287\u001b[0m \u001b[39m    write_adjlist\u001b[39;00m\n\u001b[1;32m    288\u001b[0m \u001b[39m    \"\"\"\u001b[39;00m\n\u001b[0;32m--> 289\u001b[0m     lines \u001b[39m=\u001b[39m (line\u001b[39m.\u001b[39;49mdecode(encoding) \u001b[39mfor\u001b[39;00m line \u001b[39min\u001b[39;00m path)\n\u001b[1;32m    290\u001b[0m     \u001b[39mreturn\u001b[39;00m parse_adjlist(\n\u001b[1;32m    291\u001b[0m         lines,\n\u001b[1;32m    292\u001b[0m         comments\u001b[39m=\u001b[39mcomments,\n\u001b[0;32m   (...)\u001b[0m\n\u001b[1;32m    295\u001b[0m         nodetype\u001b[39m=\u001b[39mnodetype,\n\u001b[1;32m    296\u001b[0m     )\n",
      "\u001b[0;31mAttributeError\u001b[0m: 'str' object has no attribute 'decode'"
     ]
    }
   ],
   "source": [
    "nx.read_adjlist(adj_list)"
   ]
  },
  {
   "cell_type": "code",
   "execution_count": null,
   "metadata": {},
   "outputs": [],
   "source": []
  }
 ],
 "metadata": {
  "kernelspec": {
   "display_name": "Python 3",
   "language": "python",
   "name": "python3"
  },
  "language_info": {
   "codemirror_mode": {
    "name": "ipython",
    "version": 3
   },
   "file_extension": ".py",
   "mimetype": "text/x-python",
   "name": "python",
   "nbconvert_exporter": "python",
   "pygments_lexer": "ipython3",
   "version": "3.9.12"
  },
  "orig_nbformat": 4,
  "vscode": {
   "interpreter": {
    "hash": "38cca0c38332a56087b24af0bc80247f4fced29cb4f7f437d91dc159adec9c4e"
   }
  }
 },
 "nbformat": 4,
 "nbformat_minor": 2
}
