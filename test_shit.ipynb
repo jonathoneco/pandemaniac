{
 "cells": [
  {
   "cell_type": "code",
   "execution_count": 6,
   "metadata": {},
   "outputs": [],
   "source": [
    "import networkx as nx\n",
    "import numpy as np\n",
    "import json\n",
    "from utils import *\n"
   ]
  },
  {
   "cell_type": "code",
   "execution_count": 7,
   "metadata": {},
   "outputs": [
    {
     "data": {
      "text/plain": [
       "200"
      ]
     },
     "execution_count": 7,
     "metadata": {},
     "output_type": "execute_result"
    }
   ],
   "source": [
    "G = get_graph_from_file(\"sample_graphs/J.5.1.json\")\n",
    "G.order()"
   ]
  },
  {
   "cell_type": "code",
   "execution_count": 8,
   "metadata": {},
   "outputs": [],
   "source": [
    "# G = get_graph_from_file(\"sample_graphs/RR.5.1.json\")\n",
    "# G.order()"
   ]
  },
  {
   "cell_type": "code",
   "execution_count": 9,
   "metadata": {},
   "outputs": [
    {
     "name": "stdout",
     "output_type": "stream",
     "text": [
      "Generating potential seed combinations...\n"
     ]
    },
    {
     "name": "stderr",
     "output_type": "stream",
     "text": [
      "100%|██████████| 50/50 [00:00<00:00, 262.27it/s]\n"
     ]
    },
    {
     "name": "stdout",
     "output_type": "stream",
     "text": [
      "Pitting seeds to the death...\n"
     ]
    },
    {
     "name": "stderr",
     "output_type": "stream",
     "text": [
      "3321it [00:12, 266.34it/s]"
     ]
    },
    {
     "name": "stdout",
     "output_type": "stream",
     "text": [
      "Top Seeds:  [frozenset({'33', '75', '72', '48', '76', '19', '8', '57', '113', '92', '90', '77', '13', '74', '80', '26', '143', '65', '10', '3', '60', '1', '83', '25', '9', '7', '124', '166', '15', '27', '17', '0', '16', '50', '11', '98', '88', '6', '85', '69', '53', '89', '20', '23', '91', '5', '2', '56', '4', '129'}), frozenset({'33', '75', '72', '48', '76', '19', '8', '57', '113', '92', '90', '77', '13', '74', '80', '26', '143', '65', '10', '3', '60', '1', '83', '25', '9', '7', '124', '15', '27', '17', '0', '16', '50', '11', '98', '88', '6', '85', '69', '53', '89', '116', '20', '23', '91', '5', '2', '56', '4', '129'}), frozenset({'33', '75', '72', '48', '76', '19', '8', '57', '113', '92', '90', '77', '13', '74', '80', '26', '143', '65', '10', '3', '60', '1', '83', '25', '9', '7', '124', '36', '15', '27', '17', '0', '16', '50', '11', '98', '88', '6', '85', '69', '53', '89', '116', '23', '91', '5', '2', '56', '4', '129'})]\n"
     ]
    },
    {
     "name": "stderr",
     "output_type": "stream",
     "text": [
      "\n"
     ]
    }
   ],
   "source": [
    "ordering = compete(50, G, 50)\n",
    "print(\"Top Seeds: \", ordering[:3])"
   ]
  },
  {
   "cell_type": "code",
   "execution_count": 10,
   "metadata": {},
   "outputs": [
    {
     "data": {
      "text/plain": [
       "frozenset({'0',\n",
       "           '1',\n",
       "           '10',\n",
       "           '11',\n",
       "           '113',\n",
       "           '124',\n",
       "           '129',\n",
       "           '13',\n",
       "           '143',\n",
       "           '15',\n",
       "           '16',\n",
       "           '166',\n",
       "           '17',\n",
       "           '19',\n",
       "           '2',\n",
       "           '20',\n",
       "           '23',\n",
       "           '25',\n",
       "           '26',\n",
       "           '27',\n",
       "           '3',\n",
       "           '33',\n",
       "           '4',\n",
       "           '48',\n",
       "           '5',\n",
       "           '50',\n",
       "           '53',\n",
       "           '56',\n",
       "           '57',\n",
       "           '6',\n",
       "           '60',\n",
       "           '65',\n",
       "           '69',\n",
       "           '7',\n",
       "           '72',\n",
       "           '74',\n",
       "           '75',\n",
       "           '76',\n",
       "           '77',\n",
       "           '8',\n",
       "           '80',\n",
       "           '83',\n",
       "           '85',\n",
       "           '88',\n",
       "           '89',\n",
       "           '9',\n",
       "           '90',\n",
       "           '91',\n",
       "           '92',\n",
       "           '98'})"
      ]
     },
     "execution_count": 10,
     "metadata": {},
     "output_type": "execute_result"
    }
   ],
   "source": [
    "ordering[0]"
   ]
  },
  {
   "cell_type": "code",
   "execution_count": 11,
   "metadata": {},
   "outputs": [
    {
     "ename": "NameError",
     "evalue": "name 'degree_centralities' is not defined",
     "output_type": "error",
     "traceback": [
      "\u001b[0;31m---------------------------------------------------------------------------\u001b[0m",
      "\u001b[0;31mNameError\u001b[0m                                 Traceback (most recent call last)",
      "\u001b[1;32m/Users/jonco/CS/CS 144/pandemaniac/test_shit.ipynb Cell 6\u001b[0m in \u001b[0;36m<cell line: 24>\u001b[0;34m()\u001b[0m\n\u001b[1;32m     <a href='vscode-notebook-cell:/Users/jonco/CS/CS%20144/pandemaniac/test_shit.ipynb#X33sZmlsZQ%3D%3D?line=20'>21</a>\u001b[0m \u001b[39m# Get the nodes that belong to the largest cluster\u001b[39;00m\n\u001b[1;32m     <a href='vscode-notebook-cell:/Users/jonco/CS/CS%20144/pandemaniac/test_shit.ipynb#X33sZmlsZQ%3D%3D?line=21'>22</a>\u001b[0m largest_cluster_nodes \u001b[39m=\u001b[39m [node \u001b[39mfor\u001b[39;00m node, label \u001b[39min\u001b[39;00m cluster_dict\u001b[39m.\u001b[39mitems() \u001b[39mif\u001b[39;00m label \u001b[39m==\u001b[39m largest_cluster_label]\n\u001b[0;32m---> <a href='vscode-notebook-cell:/Users/jonco/CS/CS%20144/pandemaniac/test_shit.ipynb#X33sZmlsZQ%3D%3D?line=23'>24</a>\u001b[0m largest_cluster_degree_centralities \u001b[39m=\u001b[39m {node: degree_centralities[node] \u001b[39mfor\u001b[39;00m node \u001b[39min\u001b[39;00m largest_cluster_nodes}\n",
      "\u001b[1;32m/Users/jonco/CS/CS 144/pandemaniac/test_shit.ipynb Cell 6\u001b[0m in \u001b[0;36m<dictcomp>\u001b[0;34m(.0)\u001b[0m\n\u001b[1;32m     <a href='vscode-notebook-cell:/Users/jonco/CS/CS%20144/pandemaniac/test_shit.ipynb#X33sZmlsZQ%3D%3D?line=20'>21</a>\u001b[0m \u001b[39m# Get the nodes that belong to the largest cluster\u001b[39;00m\n\u001b[1;32m     <a href='vscode-notebook-cell:/Users/jonco/CS/CS%20144/pandemaniac/test_shit.ipynb#X33sZmlsZQ%3D%3D?line=21'>22</a>\u001b[0m largest_cluster_nodes \u001b[39m=\u001b[39m [node \u001b[39mfor\u001b[39;00m node, label \u001b[39min\u001b[39;00m cluster_dict\u001b[39m.\u001b[39mitems() \u001b[39mif\u001b[39;00m label \u001b[39m==\u001b[39m largest_cluster_label]\n\u001b[0;32m---> <a href='vscode-notebook-cell:/Users/jonco/CS/CS%20144/pandemaniac/test_shit.ipynb#X33sZmlsZQ%3D%3D?line=23'>24</a>\u001b[0m largest_cluster_degree_centralities \u001b[39m=\u001b[39m {node: degree_centralities[node] \u001b[39mfor\u001b[39;00m node \u001b[39min\u001b[39;00m largest_cluster_nodes}\n",
      "\u001b[0;31mNameError\u001b[0m: name 'degree_centralities' is not defined"
     ]
    }
   ],
   "source": [
    "import sklearn.cluster as cluster\n",
    "\n",
    "adj_matrix = nx.adjacency_matrix(G)\n",
    "X = np.array(adj_matrix.todense())\n",
    "\n",
    "kmeans = cluster.KMeans(n_clusters=2)\n",
    "kmeans.fit(X)\n",
    "\n",
    "cluster_labels = kmeans.labels_\n",
    "\n",
    "from collections import Counter\n",
    "# Get a dictionary that maps cluster labels to node indices\n",
    "cluster_dict = dict(zip(G.nodes(), cluster_labels))\n",
    "\n",
    "# Count the number of nodes in each cluster\n",
    "cluster_counts = Counter(cluster_labels)\n",
    "\n",
    "# Get the label of the largest cluster\n",
    "largest_cluster_label = max(cluster_counts, key=cluster_counts.get)\n",
    "\n",
    "# Get the nodes that belong to the largest cluster\n",
    "largest_cluster_nodes = [node for node, label in cluster_dict.items() if label == largest_cluster_label]\n",
    "\n",
    "largest_cluster_degree_centralities = {node: degree_centralities[node] for node in largest_cluster_nodes}"
   ]
  },
  {
   "cell_type": "code",
   "execution_count": null,
   "metadata": {},
   "outputs": [
    {
     "data": {
      "text/plain": [
       "frozenset({1, 2, 3})"
      ]
     },
     "execution_count": 6,
     "metadata": {},
     "output_type": "execute_result"
    }
   ],
   "source": [
    "frozenset(frozenset([1, 2, 3]))"
   ]
  },
  {
   "cell_type": "code",
   "execution_count": 14,
   "metadata": {},
   "outputs": [
    {
     "ename": "NameError",
     "evalue": "name 'H' is not defined",
     "output_type": "error",
     "traceback": [
      "\u001b[0;31m---------------------------------------------------------------------------\u001b[0m",
      "\u001b[0;31mNameError\u001b[0m                                 Traceback (most recent call last)",
      "\u001b[1;32m/Users/jonco/CS/CS 144/pandemaniac/test_shit.ipynb Cell 8\u001b[0m in \u001b[0;36m<cell line: 1>\u001b[0;34m()\u001b[0m\n\u001b[0;32m----> <a href='vscode-notebook-cell:/Users/jonco/CS/CS%20144/pandemaniac/test_shit.ipynb#X42sZmlsZQ%3D%3D?line=0'>1</a>\u001b[0m centrality \u001b[39m=\u001b[39m nx\u001b[39m.\u001b[39medge_current_flow_betweenness_centrality(H)\n",
      "\u001b[0;31mNameError\u001b[0m: name 'H' is not defined"
     ]
    }
   ],
   "source": [
    "centrality = nx.edge_current_flow_betweenness_centrality(H)"
   ]
  },
  {
   "cell_type": "code",
   "execution_count": null,
   "metadata": {},
   "outputs": [],
   "source": [
    "from collections import defaultdict"
   ]
  },
  {
   "cell_type": "code",
   "execution_count": null,
   "metadata": {},
   "outputs": [],
   "source": [
    "\n"
   ]
  },
  {
   "cell_type": "code",
   "execution_count": null,
   "metadata": {},
   "outputs": [
    {
     "data": {
      "text/plain": [
       "(260.0, 233.0)"
      ]
     },
     "execution_count": 26,
     "metadata": {},
     "output_type": "execute_result"
    }
   ],
   "source": [
    "other = np.array([\"3\", \"165\", \"189\", \"87\", \"130\", \"164\", \"183\", \"6\", \"80\", \"101\"])\n",
    "ours = [key for key, value in sorted(total.items(), key=lambda x: x[1], reverse=True)[:10]]\n",
    "# ours = np.array(['20', '7', '15', '80', '150', '40', '30', '25', '90', '1'])\n",
    "nodes = optimized_sim.create_nodes(adj_list)\n",
    "score_seeds_opt(other, ours, nodes)"
   ]
  }
 ],
 "metadata": {
  "kernelspec": {
   "display_name": "cs144",
   "language": "python",
   "name": "cs144"
  },
  "language_info": {
   "codemirror_mode": {
    "name": "ipython",
    "version": 3
   },
   "file_extension": ".py",
   "mimetype": "text/x-python",
   "name": "python",
   "nbconvert_exporter": "python",
   "pygments_lexer": "ipython3",
   "version": "3.10.9"
  },
  "orig_nbformat": 4,
  "vscode": {
   "interpreter": {
    "hash": "38cca0c38332a56087b24af0bc80247f4fced29cb4f7f437d91dc159adec9c4e"
   }
  }
 },
 "nbformat": 4,
 "nbformat_minor": 2
}
