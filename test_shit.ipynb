{
 "cells": [
  {
   "cell_type": "code",
   "execution_count": 1,
   "metadata": {},
   "outputs": [],
   "source": [
    "import sim"
   ]
  },
  {
   "cell_type": "code",
   "execution_count": 2,
   "metadata": {},
   "outputs": [],
   "source": [
    "import networkx as nx\n",
    "import numpy as np\n",
    "import json\n",
    "from utils import *\n"
   ]
  },
  {
   "cell_type": "code",
   "execution_count": 3,
   "metadata": {},
   "outputs": [
    {
     "data": {
      "text/plain": [
       "200"
      ]
     },
     "execution_count": 3,
     "metadata": {},
     "output_type": "execute_result"
    }
   ],
   "source": [
    "G = get_graph_from_file(\"sample_graphs/J.5.1.json\")\n",
    "G.order()"
   ]
  },
  {
   "cell_type": "code",
   "execution_count": 4,
   "metadata": {},
   "outputs": [],
   "source": [
    "# G = get_graph_from_file(\"sample_graphs/RR.5.1.json\")\n",
    "# G.order()"
   ]
  },
  {
   "cell_type": "code",
   "execution_count": 5,
   "metadata": {},
   "outputs": [
    {
     "name": "stdout",
     "output_type": "stream",
     "text": [
      "Generating potential seed combinations...\n"
     ]
    },
    {
     "name": "stderr",
     "output_type": "stream",
     "text": [
      "100%|██████████| 50/50 [00:00<00:00, 267.63it/s]\n"
     ]
    },
    {
     "name": "stdout",
     "output_type": "stream",
     "text": [
      "Pitting seeds to the death...\n"
     ]
    },
    {
     "name": "stderr",
     "output_type": "stream",
     "text": [
      "3321it [00:07, 445.36it/s]"
     ]
    },
    {
     "name": "stdout",
     "output_type": "stream",
     "text": [
      "Top Seeds:  [frozenset({'88', '83', '34', '53', '0', '33', '62', '22', '8', '116', '16', '37', '77', '30', '50', '55', '168', '43', '143', '11', '6', '56', '10', '177', '4', '32', '57', '2', '80', '35', '48', '75', '54', '60', '1', '36', '3', '89', '25', '92', '17', '69', '72', '9', '98', '23', '19', '13', '65', '91'}), frozenset({'88', '129', '15', '83', '76', '0', '33', '53', '5', '8', '16', '116', '77', '26', '50', '85', '143', '6', '11', '74', '56', '10', '124', '4', '7', '57', '2', '90', '80', '48', '75', '60', '1', '3', '27', '113', '89', '25', '92', '17', '69', '20', '72', '9', '98', '23', '19', '13', '65', '91'}), frozenset({'88', '129', '15', '83', '76', '0', '33', '53', '5', '8', '16', '116', '77', '26', '50', '85', '143', '6', '11', '74', '56', '10', '124', '4', '7', '57', '2', '90', '80', '48', '75', '60', '1', '3', '36', '27', '113', '89', '25', '92', '17', '69', '72', '9', '98', '23', '19', '13', '65', '91'})]\n"
     ]
    },
    {
     "name": "stderr",
     "output_type": "stream",
     "text": [
      "\n"
     ]
    }
   ],
   "source": [
    "ordering = compete(50, G, 50)\n",
    "print(\"Top Seeds: \", ordering[:3])"
   ]
  },
  {
   "cell_type": "code",
   "execution_count": 6,
   "metadata": {},
   "outputs": [
    {
     "data": {
      "text/plain": [
       "frozenset({'0',\n",
       "           '1',\n",
       "           '10',\n",
       "           '11',\n",
       "           '116',\n",
       "           '13',\n",
       "           '143',\n",
       "           '16',\n",
       "           '168',\n",
       "           '17',\n",
       "           '177',\n",
       "           '19',\n",
       "           '2',\n",
       "           '22',\n",
       "           '23',\n",
       "           '25',\n",
       "           '3',\n",
       "           '30',\n",
       "           '32',\n",
       "           '33',\n",
       "           '34',\n",
       "           '35',\n",
       "           '36',\n",
       "           '37',\n",
       "           '4',\n",
       "           '43',\n",
       "           '48',\n",
       "           '50',\n",
       "           '53',\n",
       "           '54',\n",
       "           '55',\n",
       "           '56',\n",
       "           '57',\n",
       "           '6',\n",
       "           '60',\n",
       "           '62',\n",
       "           '65',\n",
       "           '69',\n",
       "           '72',\n",
       "           '75',\n",
       "           '77',\n",
       "           '8',\n",
       "           '80',\n",
       "           '83',\n",
       "           '88',\n",
       "           '89',\n",
       "           '9',\n",
       "           '91',\n",
       "           '92',\n",
       "           '98'})"
      ]
     },
     "execution_count": 6,
     "metadata": {},
     "output_type": "execute_result"
    }
   ],
   "source": [
    "ordering[0]"
   ]
  },
  {
   "cell_type": "code",
   "execution_count": 7,
   "metadata": {},
   "outputs": [
    {
     "name": "stderr",
     "output_type": "stream",
     "text": [
      "/opt/homebrew/lib/python3.10/site-packages/sklearn/cluster/_kmeans.py:870: FutureWarning: The default value of `n_init` will change from 10 to 'auto' in 1.4. Set the value of `n_init` explicitly to suppress the warning\n",
      "  warnings.warn(\n"
     ]
    },
    {
     "ename": "NameError",
     "evalue": "name 'degree_centralities' is not defined",
     "output_type": "error",
     "traceback": [
      "\u001b[0;31m---------------------------------------------------------------------------\u001b[0m",
      "\u001b[0;31mNameError\u001b[0m                                 Traceback (most recent call last)",
      "Cell \u001b[0;32mIn[7], line 24\u001b[0m\n\u001b[1;32m     21\u001b[0m \u001b[39m# Get the nodes that belong to the largest cluster\u001b[39;00m\n\u001b[1;32m     22\u001b[0m largest_cluster_nodes \u001b[39m=\u001b[39m [node \u001b[39mfor\u001b[39;00m node, label \u001b[39min\u001b[39;00m cluster_dict\u001b[39m.\u001b[39mitems() \u001b[39mif\u001b[39;00m label \u001b[39m==\u001b[39m largest_cluster_label]\n\u001b[0;32m---> 24\u001b[0m largest_cluster_degree_centralities \u001b[39m=\u001b[39m {node: degree_centralities[node] \u001b[39mfor\u001b[39;00m node \u001b[39min\u001b[39;00m largest_cluster_nodes}\n",
      "Cell \u001b[0;32mIn[7], line 24\u001b[0m, in \u001b[0;36m<dictcomp>\u001b[0;34m(.0)\u001b[0m\n\u001b[1;32m     21\u001b[0m \u001b[39m# Get the nodes that belong to the largest cluster\u001b[39;00m\n\u001b[1;32m     22\u001b[0m largest_cluster_nodes \u001b[39m=\u001b[39m [node \u001b[39mfor\u001b[39;00m node, label \u001b[39min\u001b[39;00m cluster_dict\u001b[39m.\u001b[39mitems() \u001b[39mif\u001b[39;00m label \u001b[39m==\u001b[39m largest_cluster_label]\n\u001b[0;32m---> 24\u001b[0m largest_cluster_degree_centralities \u001b[39m=\u001b[39m {node: degree_centralities[node] \u001b[39mfor\u001b[39;00m node \u001b[39min\u001b[39;00m largest_cluster_nodes}\n",
      "\u001b[0;31mNameError\u001b[0m: name 'degree_centralities' is not defined"
     ]
    }
   ],
   "source": [
    "import sklearn.cluster as cluster\n",
    "\n",
    "adj_matrix = nx.adjacency_matrix(G)\n",
    "X = np.array(adj_matrix.todense())\n",
    "\n",
    "kmeans = cluster.KMeans(n_clusters=2)\n",
    "kmeans.fit(X)\n",
    "\n",
    "cluster_labels = kmeans.labels_\n",
    "\n",
    "from collections import Counter\n",
    "# Get a dictionary that maps cluster labels to node indices\n",
    "cluster_dict = dict(zip(G.nodes(), cluster_labels))\n",
    "\n",
    "# Count the number of nodes in each cluster\n",
    "cluster_counts = Counter(cluster_labels)\n",
    "\n",
    "# Get the label of the largest cluster\n",
    "largest_cluster_label = max(cluster_counts, key=cluster_counts.get)\n",
    "\n",
    "# Get the nodes that belong to the largest cluster\n",
    "largest_cluster_nodes = [node for node, label in cluster_dict.items() if label == largest_cluster_label]\n",
    "\n",
    "largest_cluster_degree_centralities = {node: degree_centralities[node] for node in largest_cluster_nodes}"
   ]
  },
  {
   "cell_type": "code",
   "execution_count": null,
   "metadata": {},
   "outputs": [],
   "source": []
  }
 ],
 "metadata": {
  "kernelspec": {
   "display_name": "cs144",
   "language": "python",
   "name": "cs144"
  },
  "language_info": {
   "codemirror_mode": {
    "name": "ipython",
    "version": 3
   },
   "file_extension": ".py",
   "mimetype": "text/x-python",
   "name": "python",
   "nbconvert_exporter": "python",
   "pygments_lexer": "ipython3",
   "version": "3.10.9"
  },
  "orig_nbformat": 4,
  "vscode": {
   "interpreter": {
    "hash": "38cca0c38332a56087b24af0bc80247f4fced29cb4f7f437d91dc159adec9c4e"
   }
  }
 },
 "nbformat": 4,
 "nbformat_minor": 2
}
