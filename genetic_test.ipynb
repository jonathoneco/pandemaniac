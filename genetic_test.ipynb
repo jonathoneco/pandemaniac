{
 "cells": [
  {
   "cell_type": "code",
   "execution_count": 28,
   "metadata": {},
   "outputs": [],
   "source": [
    "import numpy as np\n",
    "import sim\n",
    "from utils import *\n",
    "import networkx as nx\n",
    "from tqdm import tqdm"
   ]
  },
  {
   "cell_type": "code",
   "execution_count": 29,
   "metadata": {},
   "outputs": [],
   "source": [
    "# Get graph\n",
    "G = get_graph_from_file(\"sample_graphs/J.5.1.json\")"
   ]
  },
  {
   "cell_type": "code",
   "execution_count": 34,
   "metadata": {},
   "outputs": [],
   "source": [
    "# Population\n",
    "pop_size = 30\n",
    "num_seeds = 10\n",
    "num_parents = 4\n",
    "num_mutations = int(num_seeds/3)\n",
    "population = [np.random.choice(list(G.nodes), num_seeds, replace=False) for _ in range(pop_size)]\n",
    "\n",
    "nodes = optimized_sim.create_nodes(nx.to_dict_of_lists(G))"
   ]
  },
  {
   "cell_type": "code",
   "execution_count": 31,
   "metadata": {},
   "outputs": [],
   "source": [
    "def calc_pop_fitness(pop, nodes):\n",
    "    fitness = np.zeros(pop_size)\n",
    "    for i in range(pop_size):\n",
    "        for j in range(0, i, 1):\n",
    "            # res = score_comp_seeds(list(pop[i]), list(pop[j]), adj_list)\n",
    "            # if   res ==  1: fitness[i] += 1\n",
    "            # elif res == -1: fitness[j] += 1\n",
    "            # elif res ==  0: continue#print(f'Tie between {strat1} and {strat2}')\n",
    "            res = list(score_seeds_opt(list(pop[i]), list(pop[j]), nodes).values())\n",
    "            fitness[i] += res[0]\n",
    "            fitness[j] += res[1]\n",
    "    return fitness\n"
   ]
  },
  {
   "cell_type": "code",
   "execution_count": 12,
   "metadata": {},
   "outputs": [],
   "source": [
    "def select_mating_pool(pop, fitness, num_parents):\n",
    "    parents = np.zeros((num_parents, num_seeds))\n",
    "    for parent_num in range(num_parents):\n",
    "        max_fitness_idx = np.argmax(fitness)\n",
    "        parents[parent_num] = pop[max_fitness_idx]\n",
    "        fitness[max_fitness_idx] = -999999999\n",
    "    return parents"
   ]
  },
  {
   "cell_type": "code",
   "execution_count": 13,
   "metadata": {},
   "outputs": [],
   "source": [
    "def crossover(parents, offspring_size):\n",
    "    offspring = np.empty((offspring_size, num_seeds))\n",
    "    for k in range(offspring_size):\n",
    "        parent1_idx, parent2_idx = np.random.choice(num_parents, 2, replace=False)\n",
    "        parents_seeds = np.unique(np.concatenate((parents[parent1_idx], parents[parent2_idx])))\n",
    "        test = np.random.choice(parents_seeds, num_seeds, replace=False)\n",
    "        offspring[k] = test\n",
    "    return offspring"
   ]
  },
  {
   "cell_type": "code",
   "execution_count": 14,
   "metadata": {},
   "outputs": [],
   "source": [
    "def mutation(offspring_crossover, G, num_mutations):\n",
    "    for idx in range(offspring_crossover.shape[0]):\n",
    "        while True:\n",
    "            choice = np.random.choice(G.nodes, num_mutations, replace=False).astype(int)\n",
    "            if not np.isin(choice, offspring_crossover[idx]).any():\n",
    "                offspring_crossover[idx, :num_mutations] = choice\n",
    "                break\n",
    "    return offspring_crossover\n"
   ]
  },
  {
   "cell_type": "code",
   "execution_count": 32,
   "metadata": {},
   "outputs": [
    {
     "name": "stderr",
     "output_type": "stream",
     "text": [
      "  0%|          | 0/20 [00:00<?, ?it/s]\n"
     ]
    },
    {
     "ename": "TypeError",
     "evalue": "'Node' object is not iterable",
     "output_type": "error",
     "traceback": [
      "\u001b[0;31m---------------------------------------------------------------------------\u001b[0m",
      "\u001b[0;31mTypeError\u001b[0m                                 Traceback (most recent call last)",
      "\u001b[1;32m/Users/michael/Desktop/Caltech/2022-2023/winter 2023/cs144/pandemaniac/genetic_test.ipynb Cell 8\u001b[0m in \u001b[0;36m<cell line: 4>\u001b[0;34m()\u001b[0m\n\u001b[1;32m      <a href='vscode-notebook-cell:/Users/michael/Desktop/Caltech/2022-2023/winter%202023/cs144/pandemaniac/genetic_test.ipynb#X10sZmlsZQ%3D%3D?line=2'>3</a>\u001b[0m num_same \u001b[39m=\u001b[39m \u001b[39m0\u001b[39m\n\u001b[1;32m      <a href='vscode-notebook-cell:/Users/michael/Desktop/Caltech/2022-2023/winter%202023/cs144/pandemaniac/genetic_test.ipynb#X10sZmlsZQ%3D%3D?line=3'>4</a>\u001b[0m \u001b[39mfor\u001b[39;00m i \u001b[39min\u001b[39;00m tqdm(\u001b[39mrange\u001b[39m(num_generations)):\n\u001b[0;32m----> <a href='vscode-notebook-cell:/Users/michael/Desktop/Caltech/2022-2023/winter%202023/cs144/pandemaniac/genetic_test.ipynb#X10sZmlsZQ%3D%3D?line=4'>5</a>\u001b[0m     fitness \u001b[39m=\u001b[39m calc_pop_fitness(population, nodes)\n\u001b[1;32m      <a href='vscode-notebook-cell:/Users/michael/Desktop/Caltech/2022-2023/winter%202023/cs144/pandemaniac/genetic_test.ipynb#X10sZmlsZQ%3D%3D?line=5'>6</a>\u001b[0m     parents \u001b[39m=\u001b[39m select_mating_pool(population, fitness, num_parents)\n\u001b[1;32m      <a href='vscode-notebook-cell:/Users/michael/Desktop/Caltech/2022-2023/winter%202023/cs144/pandemaniac/genetic_test.ipynb#X10sZmlsZQ%3D%3D?line=6'>7</a>\u001b[0m     \u001b[39m# if np.array_equiv(parents, old_parents):\u001b[39;00m\n\u001b[1;32m      <a href='vscode-notebook-cell:/Users/michael/Desktop/Caltech/2022-2023/winter%202023/cs144/pandemaniac/genetic_test.ipynb#X10sZmlsZQ%3D%3D?line=7'>8</a>\u001b[0m     \u001b[39m#     num_same += 1\u001b[39;00m\n\u001b[1;32m      <a href='vscode-notebook-cell:/Users/michael/Desktop/Caltech/2022-2023/winter%202023/cs144/pandemaniac/genetic_test.ipynb#X10sZmlsZQ%3D%3D?line=8'>9</a>\u001b[0m     \u001b[39m# else:\u001b[39;00m\n\u001b[1;32m     <a href='vscode-notebook-cell:/Users/michael/Desktop/Caltech/2022-2023/winter%202023/cs144/pandemaniac/genetic_test.ipynb#X10sZmlsZQ%3D%3D?line=9'>10</a>\u001b[0m     \u001b[39m#     num_same = 0\u001b[39;00m\n\u001b[1;32m     <a href='vscode-notebook-cell:/Users/michael/Desktop/Caltech/2022-2023/winter%202023/cs144/pandemaniac/genetic_test.ipynb#X10sZmlsZQ%3D%3D?line=10'>11</a>\u001b[0m     \u001b[39m# if num_same == 5:\u001b[39;00m\n\u001b[1;32m     <a href='vscode-notebook-cell:/Users/michael/Desktop/Caltech/2022-2023/winter%202023/cs144/pandemaniac/genetic_test.ipynb#X10sZmlsZQ%3D%3D?line=11'>12</a>\u001b[0m     \u001b[39m#     break\u001b[39;00m\n",
      "\u001b[1;32m/Users/michael/Desktop/Caltech/2022-2023/winter 2023/cs144/pandemaniac/genetic_test.ipynb Cell 8\u001b[0m in \u001b[0;36mcalc_pop_fitness\u001b[0;34m(pop, nodes)\u001b[0m\n\u001b[1;32m      <a href='vscode-notebook-cell:/Users/michael/Desktop/Caltech/2022-2023/winter%202023/cs144/pandemaniac/genetic_test.ipynb#X10sZmlsZQ%3D%3D?line=2'>3</a>\u001b[0m \u001b[39mfor\u001b[39;00m i \u001b[39min\u001b[39;00m \u001b[39mrange\u001b[39m(pop_size):\n\u001b[1;32m      <a href='vscode-notebook-cell:/Users/michael/Desktop/Caltech/2022-2023/winter%202023/cs144/pandemaniac/genetic_test.ipynb#X10sZmlsZQ%3D%3D?line=3'>4</a>\u001b[0m     \u001b[39mfor\u001b[39;00m j \u001b[39min\u001b[39;00m \u001b[39mrange\u001b[39m(\u001b[39m0\u001b[39m, i, \u001b[39m1\u001b[39m):\n\u001b[1;32m      <a href='vscode-notebook-cell:/Users/michael/Desktop/Caltech/2022-2023/winter%202023/cs144/pandemaniac/genetic_test.ipynb#X10sZmlsZQ%3D%3D?line=4'>5</a>\u001b[0m         \u001b[39m# res = score_comp_seeds(list(pop[i]), list(pop[j]), adj_list)\u001b[39;00m\n\u001b[1;32m      <a href='vscode-notebook-cell:/Users/michael/Desktop/Caltech/2022-2023/winter%202023/cs144/pandemaniac/genetic_test.ipynb#X10sZmlsZQ%3D%3D?line=5'>6</a>\u001b[0m         \u001b[39m# if   res ==  1: fitness[i] += 1\u001b[39;00m\n\u001b[1;32m      <a href='vscode-notebook-cell:/Users/michael/Desktop/Caltech/2022-2023/winter%202023/cs144/pandemaniac/genetic_test.ipynb#X10sZmlsZQ%3D%3D?line=6'>7</a>\u001b[0m         \u001b[39m# elif res == -1: fitness[j] += 1\u001b[39;00m\n\u001b[1;32m      <a href='vscode-notebook-cell:/Users/michael/Desktop/Caltech/2022-2023/winter%202023/cs144/pandemaniac/genetic_test.ipynb#X10sZmlsZQ%3D%3D?line=7'>8</a>\u001b[0m         \u001b[39m# elif res ==  0: continue#print(f'Tie between {strat1} and {strat2}')\u001b[39;00m\n\u001b[0;32m----> <a href='vscode-notebook-cell:/Users/michael/Desktop/Caltech/2022-2023/winter%202023/cs144/pandemaniac/genetic_test.ipynb#X10sZmlsZQ%3D%3D?line=8'>9</a>\u001b[0m         res \u001b[39m=\u001b[39m \u001b[39mlist\u001b[39m(score_seeds_opt(\u001b[39mlist\u001b[39;49m(pop[i]), \u001b[39mlist\u001b[39;49m(pop[j]), nodes)\u001b[39m.\u001b[39mvalues())\n\u001b[1;32m     <a href='vscode-notebook-cell:/Users/michael/Desktop/Caltech/2022-2023/winter%202023/cs144/pandemaniac/genetic_test.ipynb#X10sZmlsZQ%3D%3D?line=9'>10</a>\u001b[0m         fitness[i] \u001b[39m+\u001b[39m\u001b[39m=\u001b[39m res[\u001b[39m0\u001b[39m]\n\u001b[1;32m     <a href='vscode-notebook-cell:/Users/michael/Desktop/Caltech/2022-2023/winter%202023/cs144/pandemaniac/genetic_test.ipynb#X10sZmlsZQ%3D%3D?line=10'>11</a>\u001b[0m         fitness[j] \u001b[39m+\u001b[39m\u001b[39m=\u001b[39m res[\u001b[39m1\u001b[39m]\n",
      "File \u001b[0;32m~/Desktop/Caltech/2022-2023/winter 2023/cs144/pandemaniac/utils.py:102\u001b[0m, in \u001b[0;36mscore_seeds_opt\u001b[0;34m(seed1, seed2, adj_list)\u001b[0m\n\u001b[1;32m    100\u001b[0m def score_seeds_opt(seed1, seed2, nodes):\n\u001b[1;32m    101\u001b[0m     seeds = {\"1\": seed1, \"2\": seed2}\n\u001b[0;32m--> 102\u001b[0m     # nodes = optimized_sim.create_nodes(adj_list)\n\u001b[1;32m    103\u001b[0m     result = optimized_sim.sim(nodes, seeds)\n\u001b[1;32m    104\u001b[0m     # result = sim.run(adj_list, seeds)\n",
      "File \u001b[0;32m~/Desktop/Caltech/2022-2023/winter 2023/cs144/pandemaniac/optimized_sim.py:127\u001b[0m, in \u001b[0;36mcreate_nodes\u001b[0;34m(adj_list)\u001b[0m\n\u001b[1;32m    124\u001b[0m node \u001b[39m=\u001b[39m nodes[key]\n\u001b[1;32m    125\u001b[0m neighbors \u001b[39m=\u001b[39m adj_list[key]\n\u001b[0;32m--> 127\u001b[0m \u001b[39mfor\u001b[39;00m neighbor_key \u001b[39min\u001b[39;00m neighbors:\n\u001b[1;32m    128\u001b[0m   neighbor \u001b[39m=\u001b[39m nodes[neighbor_key]\n\u001b[1;32m    129\u001b[0m   node\u001b[39m.\u001b[39mneighbors\u001b[39m.\u001b[39mappend(neighbor)\n",
      "\u001b[0;31mTypeError\u001b[0m: 'Node' object is not iterable"
     ]
    }
   ],
   "source": [
    "num_generations = 20\n",
    "old_parents = np.empty(1)\n",
    "num_same = 0\n",
    "for i in tqdm(range(num_generations)):\n",
    "    fitness = calc_pop_fitness(population, nodes)\n",
    "    parents = select_mating_pool(population, fitness, num_parents)\n",
    "    # if np.array_equiv(parents, old_parents):\n",
    "    #     num_same += 1\n",
    "    # else:\n",
    "    #     num_same = 0\n",
    "    # if num_same == 5:\n",
    "    #     break\n",
    "    old_parents = parents\n",
    "    offspring = crossover(parents, pop_size-num_parents)\n",
    "    offspring = mutation(offspring, G, num_mutations)\n",
    "    population = []\n",
    "    population.extend(parents.astype(int).astype(str))\n",
    "    population.extend(offspring.astype(int).astype(str))\n",
    "fitness = calc_pop_fitness(population, nodes)\n",
    "winning_strategy = population[np.argmax(fitness)]"
   ]
  },
  {
   "cell_type": "code",
   "execution_count": 16,
   "metadata": {},
   "outputs": [
    {
     "data": {
      "text/plain": [
       "{'1': 8.0, '2': 189.0}"
      ]
     },
     "execution_count": 16,
     "metadata": {},
     "output_type": "execute_result"
    }
   ],
   "source": [
    "other = np.array(['13', '2', '11', '92', '9', '8', '10', '75', '33', '17'])\n",
    "other2 = np.array(['20', '7', '15', '80', '150', '40', '30', '25', '90', '1'])\n",
    "# genetic = winning_strategy\n",
    "score_seeds_opt(other2, other, nx.to_dict_of_lists(G))"
   ]
  },
  {
   "cell_type": "code",
   "execution_count": 17,
   "metadata": {},
   "outputs": [],
   "source": [
    "\n",
    "# genetic = winning_strategy"
   ]
  },
  {
   "cell_type": "code",
   "execution_count": null,
   "metadata": {},
   "outputs": [],
   "source": []
  }
 ],
 "metadata": {
  "kernelspec": {
   "display_name": "Python 3",
   "language": "python",
   "name": "python3"
  },
  "language_info": {
   "codemirror_mode": {
    "name": "ipython",
    "version": 3
   },
   "file_extension": ".py",
   "mimetype": "text/x-python",
   "name": "python",
   "nbconvert_exporter": "python",
   "pygments_lexer": "ipython3",
   "version": "3.9.12"
  },
  "orig_nbformat": 4,
  "vscode": {
   "interpreter": {
    "hash": "2c17cdae881039898e019dde816ef025ab5528b4115dbe62b08e3ff91b305481"
   }
  }
 },
 "nbformat": 4,
 "nbformat_minor": 2
}
