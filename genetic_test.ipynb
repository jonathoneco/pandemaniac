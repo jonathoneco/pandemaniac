{
 "cells": [
  {
   "cell_type": "code",
   "execution_count": 1,
   "metadata": {},
   "outputs": [],
   "source": [
    "import numpy as np\n",
    "import sim\n",
    "from utils import *\n",
    "import networkx as nx\n",
    "from tqdm import tqdm"
   ]
  },
  {
   "cell_type": "code",
   "execution_count": 2,
   "metadata": {},
   "outputs": [],
   "source": [
    "# Get graph\n",
    "G = get_graph_from_file(\"sample_graphs/J.5.1.json\")"
   ]
  },
  {
   "cell_type": "code",
   "execution_count": 3,
   "metadata": {},
   "outputs": [],
   "source": [
    "# Population\n",
    "pop_size = 30\n",
    "num_seeds = 10\n",
    "num_parents = 4\n",
    "num_mutations = int(num_seeds/3)\n",
    "population = [np.random.choice(list(G.nodes), num_seeds, replace=False) for _ in range(pop_size)]"
   ]
  },
  {
   "cell_type": "code",
   "execution_count": 5,
   "metadata": {},
   "outputs": [],
   "source": [
    "def select_mating_pool(pop, fitness, num_parents):\n",
    "    parents = np.zeros((num_parents, num_seeds))\n",
    "    for parent_num in range(num_parents):\n",
    "        max_fitness_idx = np.argmax(fitness)\n",
    "        parents[parent_num] = pop[max_fitness_idx]\n",
    "        fitness[max_fitness_idx] = -999999999\n",
    "    return parents"
   ]
  },
  {
   "cell_type": "code",
   "execution_count": 7,
   "metadata": {},
   "outputs": [],
   "source": [
    "def crossover(parents, offspring_size):\n",
    "    offspring = np.empty((offspring_size, num_seeds))\n",
    "    for k in range(offspring_size):\n",
    "        parent1_idx, parent2_idx = np.random.choice(num_parents, 2, replace=False)\n",
    "        parents_seeds = np.unique(np.concatenate((parents[parent1_idx], parents[parent2_idx])))\n",
    "        test = np.random.choice(parents_seeds, num_seeds, replace=False)\n",
    "        offspring[k] = test\n",
    "    return offspring"
   ]
  },
  {
   "cell_type": "code",
   "execution_count": 8,
   "metadata": {},
   "outputs": [],
   "source": [
    "def mutation(offspring_crossover, G, num_mutations):\n",
    "    for idx in range(offspring_crossover.shape[0]):\n",
    "        while True:\n",
    "            choice = np.random.choice(G.nodes, num_mutations, replace=False).astype(int)\n",
    "            if not np.isin(choice, offspring_crossover[idx]).any():\n",
    "                offspring_crossover[idx, :num_mutations] = choice\n",
    "                break\n",
    "    return offspring_crossover\n"
   ]
  },
  {
   "cell_type": "code",
   "execution_count": 9,
   "metadata": {},
   "outputs": [
    {
     "name": "stderr",
     "output_type": "stream",
     "text": [
      "  0%|          | 0/50 [00:00<?, ?it/s]\n"
     ]
    },
    {
     "ename": "TypeError",
     "evalue": "list indices must be integers or slices, not numpy.str_",
     "output_type": "error",
     "traceback": [
      "\u001b[0;31m---------------------------------------------------------------------------\u001b[0m",
      "\u001b[0;31mTypeError\u001b[0m                                 Traceback (most recent call last)",
      "Cell \u001b[0;32mIn[9], line 5\u001b[0m\n\u001b[1;32m      3\u001b[0m num_same \u001b[39m=\u001b[39m \u001b[39m0\u001b[39m\n\u001b[1;32m      4\u001b[0m \u001b[39mfor\u001b[39;00m i \u001b[39min\u001b[39;00m tqdm(\u001b[39mrange\u001b[39m(num_generations)):\n\u001b[0;32m----> 5\u001b[0m     fitness \u001b[39m=\u001b[39m calc_pop_fitness(population, G)\n\u001b[1;32m      6\u001b[0m     parents \u001b[39m=\u001b[39m select_mating_pool(population, fitness, num_parents)\n\u001b[1;32m      7\u001b[0m     \u001b[39m# if np.array_equiv(parents, old_parents):\u001b[39;00m\n\u001b[1;32m      8\u001b[0m     \u001b[39m#     num_same += 1\u001b[39;00m\n\u001b[1;32m      9\u001b[0m     \u001b[39m# else:\u001b[39;00m\n\u001b[1;32m     10\u001b[0m     \u001b[39m#     num_same = 0\u001b[39;00m\n\u001b[1;32m     11\u001b[0m     \u001b[39m# if num_same == 5:\u001b[39;00m\n\u001b[1;32m     12\u001b[0m     \u001b[39m#     break\u001b[39;00m\n",
      "Cell \u001b[0;32mIn[4], line 10\u001b[0m, in \u001b[0;36mcalc_pop_fitness\u001b[0;34m(pop, graph)\u001b[0m\n\u001b[1;32m      4\u001b[0m \u001b[39mfor\u001b[39;00m i \u001b[39min\u001b[39;00m \u001b[39mrange\u001b[39m(pop_size):\n\u001b[1;32m      5\u001b[0m     \u001b[39mfor\u001b[39;00m j \u001b[39min\u001b[39;00m \u001b[39mrange\u001b[39m(\u001b[39m0\u001b[39m, i, \u001b[39m1\u001b[39m):\n\u001b[1;32m      6\u001b[0m         \u001b[39m# res = score_comp_seeds(list(pop[i]), list(pop[j]), adj_list)\u001b[39;00m\n\u001b[1;32m      7\u001b[0m         \u001b[39m# if   res ==  1: fitness[i] += 1\u001b[39;00m\n\u001b[1;32m      8\u001b[0m         \u001b[39m# elif res == -1: fitness[j] += 1\u001b[39;00m\n\u001b[1;32m      9\u001b[0m         \u001b[39m# elif res ==  0: continue#print(f'Tie between {strat1} and {strat2}')\u001b[39;00m\n\u001b[0;32m---> 10\u001b[0m         res \u001b[39m=\u001b[39m \u001b[39mlist\u001b[39m(score_seeds(\u001b[39mlist\u001b[39;49m(pop[i]), \u001b[39mlist\u001b[39;49m(pop[j]), adj_list)\u001b[39m.\u001b[39mvalues())\n\u001b[1;32m     11\u001b[0m         fitness[i] \u001b[39m+\u001b[39m\u001b[39m=\u001b[39m res[\u001b[39m0\u001b[39m]\n\u001b[1;32m     12\u001b[0m         fitness[j] \u001b[39m+\u001b[39m\u001b[39m=\u001b[39m res[\u001b[39m1\u001b[39m]\n",
      "File \u001b[0;32m~/repos/School/pandemaniac/utils.py:66\u001b[0m, in \u001b[0;36mscore_seeds\u001b[0;34m(seed1, seed2, adj_list)\u001b[0m\n\u001b[1;32m     64\u001b[0m seeds \u001b[39m=\u001b[39m {\u001b[39m\"\u001b[39m\u001b[39m1\u001b[39m\u001b[39m\"\u001b[39m: seed1, \u001b[39m\"\u001b[39m\u001b[39m2\u001b[39m\u001b[39m\"\u001b[39m: seed2}\n\u001b[1;32m     65\u001b[0m nodes \u001b[39m=\u001b[39m optimized_sim\u001b[39m.\u001b[39mcreate_nodes(adj_list)\n\u001b[0;32m---> 66\u001b[0m result \u001b[39m=\u001b[39m optimized_sim\u001b[39m.\u001b[39;49msim(nodes, seeds)\n\u001b[1;32m     67\u001b[0m \u001b[39mreturn\u001b[39;00m result\n",
      "File \u001b[0;32m~/repos/School/pandemaniac/optimized_sim.py:88\u001b[0m, in \u001b[0;36msim\u001b[0;34m(nodes, seeds)\u001b[0m\n\u001b[1;32m     85\u001b[0m num_colors \u001b[39m=\u001b[39m \u001b[39mlen\u001b[39m(idx_to_color)\n\u001b[1;32m     87\u001b[0m reset_nodes(nodes, num_colors)\n\u001b[0;32m---> 88\u001b[0m seed_nodes(nodes, idx_to_seeds)\n\u001b[1;32m     89\u001b[0m max_rounds \u001b[39m=\u001b[39m randint(\u001b[39m100\u001b[39m, \u001b[39m200\u001b[39m)\n\u001b[1;32m     90\u001b[0m \u001b[39miter\u001b[39m \u001b[39m=\u001b[39m \u001b[39m0\u001b[39m\n",
      "File \u001b[0;32m~/repos/School/pandemaniac/optimized_sim.py:117\u001b[0m, in \u001b[0;36mseed_nodes\u001b[0;34m(nodes, seeds)\u001b[0m\n\u001b[1;32m    115\u001b[0m \u001b[39mfor\u001b[39;00m color \u001b[39min\u001b[39;00m seeds\u001b[39m.\u001b[39mkeys():\n\u001b[1;32m    116\u001b[0m   \u001b[39mfor\u001b[39;00m node_idx \u001b[39min\u001b[39;00m seeds[color]:\n\u001b[0;32m--> 117\u001b[0m     node \u001b[39m=\u001b[39m nodes[node_idx]\n\u001b[1;32m    118\u001b[0m     \u001b[39mif\u001b[39;00m node\u001b[39m.\u001b[39mcolor \u001b[39m>\u001b[39m \u001b[39m0\u001b[39m:\n\u001b[1;32m    119\u001b[0m       conflicts\u001b[39m.\u001b[39mappend(node)\n",
      "\u001b[0;31mTypeError\u001b[0m: list indices must be integers or slices, not numpy.str_"
     ]
    }
   ],
   "source": [
    "num_generations = 50\n",
    "old_parents = np.empty(1)\n",
    "num_same = 0\n",
    "for i in tqdm(range(num_generations)):\n",
    "    fitness = calc_pop_fitness(population, G)\n",
    "    parents = select_mating_pool(population, fitness, num_parents)\n",
    "    # if np.array_equiv(parents, old_parents):\n",
    "    #     num_same += 1\n",
    "    # else:\n",
    "    #     num_same = 0\n",
    "    # if num_same == 5:\n",
    "    #     break\n",
    "    old_parents = parents\n",
    "    offspring = crossover(parents, pop_size-num_parents)\n",
    "    offspring = mutation(offspring, G, num_mutations)\n",
    "    population = []\n",
    "    population.extend(parents.astype(int).astype(str))\n",
    "    population.extend(offspring.astype(int).astype(str))\n",
    "fitness = calc_pop_fitness(population, G)\n",
    "winning_strategy = population[np.argmax(fitness)]"
   ]
  },
  {
   "cell_type": "code",
   "execution_count": null,
   "metadata": {},
   "outputs": [
    {
     "data": {
      "text/plain": [
       "array(['143', '9', '17', '25', '92', '91', '10', '89', '2', '50'],\n",
       "      dtype='<U21')"
      ]
     },
     "execution_count": 31,
     "metadata": {},
     "output_type": "execute_result"
    }
   ],
   "source": [
    "winning_strategy"
   ]
  },
  {
   "cell_type": "code",
   "execution_count": null,
   "metadata": {},
   "outputs": [
    {
     "data": {
      "text/plain": [
       "array(['143', '9', '17', '25', '92', '91', '10', '89', '2', '50'],\n",
       "      dtype='<U21')"
      ]
     },
     "execution_count": 32,
     "metadata": {},
     "output_type": "execute_result"
    }
   ],
   "source": [
    "winning_strategy"
   ]
  },
  {
   "cell_type": "code",
   "execution_count": null,
   "metadata": {},
   "outputs": [],
   "source": [
    "other = np.array(['13', '2', '11', '92', '9', '8', '10', '75', '33', '17'])\n",
    "genetic = winning_strategy"
   ]
  },
  {
   "cell_type": "code",
   "execution_count": null,
   "metadata": {},
   "outputs": [
    {
     "data": {
      "text/plain": [
       "{'1': 9, '2': 188}"
      ]
     },
     "execution_count": 34,
     "metadata": {},
     "output_type": "execute_result"
    }
   ],
   "source": [
    "score_seeds(genetic, other, nx.to_dict_of_lists(G))"
   ]
  },
  {
   "cell_type": "code",
   "execution_count": null,
   "metadata": {},
   "outputs": [],
   "source": []
  }
 ],
 "metadata": {
  "kernelspec": {
   "display_name": "cs144",
   "language": "python",
   "name": "cs144"
  },
  "language_info": {
   "codemirror_mode": {
    "name": "ipython",
    "version": 3
   },
   "file_extension": ".py",
   "mimetype": "text/x-python",
   "name": "python",
   "nbconvert_exporter": "python",
   "pygments_lexer": "ipython3",
   "version": "3.10.9"
  },
  "orig_nbformat": 4
 },
 "nbformat": 4,
 "nbformat_minor": 2
}
