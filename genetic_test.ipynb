{
 "cells": [
  {
   "cell_type": "code",
   "execution_count": 1,
   "metadata": {},
   "outputs": [],
   "source": [
    "import numpy as np\n",
    "import sim\n",
    "from utils import *\n",
    "import networkx as nx\n",
    "from tqdm import tqdm"
   ]
  },
  {
   "cell_type": "code",
   "execution_count": 2,
   "metadata": {},
   "outputs": [],
   "source": [
    "# Get graph\n",
    "G = get_graph_from_file(\"sample_graphs/J.5.1.json\")"
   ]
  },
  {
   "cell_type": "code",
   "execution_count": 3,
   "metadata": {},
   "outputs": [],
   "source": [
    "# Population\n",
    "pop_size = 30\n",
    "num_seeds = 10\n",
    "num_parents = 4\n",
    "num_mutations = int(num_seeds/3)\n",
    "population = [np.random.choice(list(G.nodes), num_seeds, replace=False) for _ in range(pop_size)]"
   ]
  },
  {
   "cell_type": "code",
   "execution_count": 4,
   "metadata": {},
   "outputs": [],
   "source": [
    "def calc_pop_fitness(pop, graph):\n",
    "    fitness = np.zeros(pop_size)\n",
    "    adj_list = nx.to_dict_of_lists(graph)\n",
    "    for i in range(pop_size):\n",
    "        for j in range(0, i, 1):\n",
    "            # res = score_comp_seeds(list(pop[i]), list(pop[j]), adj_list)\n",
    "            # if   res ==  1: fitness[i] += 1\n",
    "            # elif res == -1: fitness[j] += 1\n",
    "            # elif res ==  0: continue#print(f'Tie between {strat1} and {strat2}')\n",
    "            res = list(score_seeds(list(pop[i]), list(pop[j]), adj_list).values())\n",
    "            fitness[i] += res[0]\n",
    "            fitness[j] += res[1]\n",
    "    return fitness\n"
   ]
  },
  {
   "cell_type": "code",
   "execution_count": 5,
   "metadata": {},
   "outputs": [],
   "source": [
    "def select_mating_pool(pop, fitness, num_parents):\n",
    "    parents = np.zeros((num_parents, num_seeds))\n",
    "    for parent_num in range(num_parents):\n",
    "        max_fitness_idx = np.argmax(fitness)\n",
    "        parents[parent_num] = pop[max_fitness_idx]\n",
    "        fitness[max_fitness_idx] = -999999999\n",
    "    return parents"
   ]
  },
  {
   "cell_type": "code",
   "execution_count": 6,
   "metadata": {},
   "outputs": [],
   "source": [
    "def crossover(parents, offspring_size):\n",
    "    offspring = np.empty((offspring_size, num_seeds))\n",
    "    for k in range(offspring_size):\n",
    "        parent1_idx, parent2_idx = np.random.choice(num_parents, 2, replace=False)\n",
    "        parents_seeds = np.unique(np.concatenate((parents[parent1_idx], parents[parent2_idx])))\n",
    "        test = np.random.choice(parents_seeds, num_seeds, replace=False)\n",
    "        offspring[k] = test\n",
    "    return offspring"
   ]
  },
  {
   "cell_type": "code",
   "execution_count": 7,
   "metadata": {},
   "outputs": [],
   "source": [
    "def mutation(offspring_crossover, G, num_mutations):\n",
    "    for idx in range(offspring_crossover.shape[0]):\n",
    "        while True:\n",
    "            choice = np.random.choice(G.nodes, num_mutations, replace=False).astype(int)\n",
    "            if not np.isin(choice, offspring_crossover[idx]).any():\n",
    "                offspring_crossover[idx, :num_mutations] = choice\n",
    "                break\n",
    "    return offspring_crossover\n"
   ]
  },
  {
   "cell_type": "code",
   "execution_count": 8,
   "metadata": {},
   "outputs": [
    {
     "name": "stderr",
     "output_type": "stream",
     "text": [
      " 86%|████████▌ | 43/50 [01:15<00:12,  1.77s/it]\n"
     ]
    },
    {
     "ename": "KeyboardInterrupt",
     "evalue": "",
     "output_type": "error",
     "traceback": [
      "\u001b[0;31m---------------------------------------------------------------------------\u001b[0m",
      "\u001b[0;31mKeyboardInterrupt\u001b[0m                         Traceback (most recent call last)",
      "Cell \u001b[0;32mIn[8], line 5\u001b[0m\n\u001b[1;32m      3\u001b[0m num_same \u001b[39m=\u001b[39m \u001b[39m0\u001b[39m\n\u001b[1;32m      4\u001b[0m \u001b[39mfor\u001b[39;00m i \u001b[39min\u001b[39;00m tqdm(\u001b[39mrange\u001b[39m(num_generations)):\n\u001b[0;32m----> 5\u001b[0m     fitness \u001b[39m=\u001b[39m calc_pop_fitness(population, G)\n\u001b[1;32m      6\u001b[0m     parents \u001b[39m=\u001b[39m select_mating_pool(population, fitness, num_parents)\n\u001b[1;32m      7\u001b[0m     \u001b[39m# if np.array_equiv(parents, old_parents):\u001b[39;00m\n\u001b[1;32m      8\u001b[0m     \u001b[39m#     num_same += 1\u001b[39;00m\n\u001b[1;32m      9\u001b[0m     \u001b[39m# else:\u001b[39;00m\n\u001b[1;32m     10\u001b[0m     \u001b[39m#     num_same = 0\u001b[39;00m\n\u001b[1;32m     11\u001b[0m     \u001b[39m# if num_same == 5:\u001b[39;00m\n\u001b[1;32m     12\u001b[0m     \u001b[39m#     break\u001b[39;00m\n",
      "Cell \u001b[0;32mIn[4], line 10\u001b[0m, in \u001b[0;36mcalc_pop_fitness\u001b[0;34m(pop, graph)\u001b[0m\n\u001b[1;32m      4\u001b[0m \u001b[39mfor\u001b[39;00m i \u001b[39min\u001b[39;00m \u001b[39mrange\u001b[39m(pop_size):\n\u001b[1;32m      5\u001b[0m     \u001b[39mfor\u001b[39;00m j \u001b[39min\u001b[39;00m \u001b[39mrange\u001b[39m(\u001b[39m0\u001b[39m, i, \u001b[39m1\u001b[39m):\n\u001b[1;32m      6\u001b[0m         \u001b[39m# res = score_comp_seeds(list(pop[i]), list(pop[j]), adj_list)\u001b[39;00m\n\u001b[1;32m      7\u001b[0m         \u001b[39m# if   res ==  1: fitness[i] += 1\u001b[39;00m\n\u001b[1;32m      8\u001b[0m         \u001b[39m# elif res == -1: fitness[j] += 1\u001b[39;00m\n\u001b[1;32m      9\u001b[0m         \u001b[39m# elif res ==  0: continue#print(f'Tie between {strat1} and {strat2}')\u001b[39;00m\n\u001b[0;32m---> 10\u001b[0m         res \u001b[39m=\u001b[39m \u001b[39mlist\u001b[39m(score_seeds(\u001b[39mlist\u001b[39;49m(pop[i]), \u001b[39mlist\u001b[39;49m(pop[j]), adj_list)\u001b[39m.\u001b[39mvalues())\n\u001b[1;32m     11\u001b[0m         fitness[i] \u001b[39m+\u001b[39m\u001b[39m=\u001b[39m res[\u001b[39m0\u001b[39m]\n\u001b[1;32m     12\u001b[0m         fitness[j] \u001b[39m+\u001b[39m\u001b[39m=\u001b[39m res[\u001b[39m1\u001b[39m]\n",
      "File \u001b[0;32m~/repos/School/pandemaniac/utils.py:97\u001b[0m, in \u001b[0;36mscore_seeds\u001b[0;34m(seed1, seed2, adj_list)\u001b[0m\n\u001b[1;32m     94\u001b[0m seeds \u001b[39m=\u001b[39m {\u001b[39m\"\u001b[39m\u001b[39m1\u001b[39m\u001b[39m\"\u001b[39m: seed1, \u001b[39m\"\u001b[39m\u001b[39m2\u001b[39m\u001b[39m\"\u001b[39m: seed2}\n\u001b[1;32m     95\u001b[0m \u001b[39m# nodes = optimized_sim.create_nodes(adj_list)\u001b[39;00m\n\u001b[1;32m     96\u001b[0m \u001b[39m# result = optimized_sim.sim(nodes, seeds)\u001b[39;00m\n\u001b[0;32m---> 97\u001b[0m result \u001b[39m=\u001b[39m sim\u001b[39m.\u001b[39;49mrun(adj_list, seeds)\n\u001b[1;32m     98\u001b[0m \u001b[39mreturn\u001b[39;00m result\n",
      "File \u001b[0;32m~/repos/School/pandemaniac/sim.py:62\u001b[0m, in \u001b[0;36mrun\u001b[0;34m(adj_list, node_mappings)\u001b[0m\n\u001b[1;32m     52\u001b[0m \u001b[39mdef\u001b[39;00m \u001b[39mrun\u001b[39m(adj_list, node_mappings):\n\u001b[1;32m     53\u001b[0m \u001b[39m  \u001b[39m\u001b[39m\"\"\"\u001b[39;00m\n\u001b[1;32m     54\u001b[0m \u001b[39m  Function: run\u001b[39;00m\n\u001b[1;32m     55\u001b[0m \u001b[39m  -------------\u001b[39;00m\n\u001b[0;32m   (...)\u001b[0m\n\u001b[1;32m     60\u001b[0m \u001b[39m                 of seed nodes associated with that name.\u001b[39;00m\n\u001b[1;32m     61\u001b[0m \u001b[39m  \"\"\"\u001b[39;00m\n\u001b[0;32m---> 62\u001b[0m   results \u001b[39m=\u001b[39m run_simulation(adj_list, node_mappings)\n\u001b[1;32m     63\u001b[0m   \u001b[39mreturn\u001b[39;00m results\n",
      "File \u001b[0;32m~/repos/School/pandemaniac/sim.py:93\u001b[0m, in \u001b[0;36mrun_simulation\u001b[0;34m(adj_list, node_mappings)\u001b[0m\n\u001b[1;32m     91\u001b[0m prev \u001b[39m=\u001b[39m deepcopy(node_color)\n\u001b[1;32m     92\u001b[0m \u001b[39mfor\u001b[39;00m node \u001b[39min\u001b[39;00m nodes:\n\u001b[0;32m---> 93\u001b[0m   (changed, color) \u001b[39m=\u001b[39m update(adj_list, prev, node)\n\u001b[1;32m     94\u001b[0m   \u001b[39m# Store the node's new color only if it changSed.\u001b[39;00m\n\u001b[1;32m     95\u001b[0m   \u001b[39mif\u001b[39;00m changed: node_color[node] \u001b[39m=\u001b[39m color\n",
      "File \u001b[0;32m~/repos/School/pandemaniac/sim.py:132\u001b[0m, in \u001b[0;36mupdate\u001b[0;34m(adj_list, node_color, node)\u001b[0m\n\u001b[1;32m    130\u001b[0m \u001b[39mif\u001b[39;00m node_color[node] \u001b[39mis\u001b[39;00m \u001b[39mnot\u001b[39;00m \u001b[39mNone\u001b[39;00m:\n\u001b[1;32m    131\u001b[0m   team_count[node_color[node]] \u001b[39m+\u001b[39m\u001b[39m=\u001b[39m \u001b[39m1.5\u001b[39m\n\u001b[0;32m--> 132\u001b[0m most_common \u001b[39m=\u001b[39m team_count\u001b[39m.\u001b[39;49mmost_common(\u001b[39m1\u001b[39;49m)\n\u001b[1;32m    133\u001b[0m \u001b[39mif\u001b[39;00m \u001b[39mlen\u001b[39m(most_common) \u001b[39m>\u001b[39m \u001b[39m0\u001b[39m \u001b[39mand\u001b[39;00m \\\n\u001b[1;32m    134\u001b[0m   most_common[\u001b[39m0\u001b[39m][\u001b[39m1\u001b[39m] \u001b[39m>\u001b[39m \u001b[39mlen\u001b[39m(colored_neighbors) \u001b[39m/\u001b[39m \u001b[39m2.0\u001b[39m:\n\u001b[1;32m    135\u001b[0m   \u001b[39mreturn\u001b[39;00m (\u001b[39mTrue\u001b[39;00m, most_common[\u001b[39m0\u001b[39m][\u001b[39m0\u001b[39m])\n",
      "File \u001b[0;32m/opt/homebrew/Cellar/python@3.10/3.10.9/Frameworks/Python.framework/Versions/3.10/lib/python3.10/collections/__init__.py:602\u001b[0m, in \u001b[0;36mCounter.most_common\u001b[0;34m(self, n)\u001b[0m\n\u001b[1;32m    600\u001b[0m \u001b[39m# Lazy import to speedup Python startup time\u001b[39;00m\n\u001b[1;32m    601\u001b[0m \u001b[39mimport\u001b[39;00m \u001b[39mheapq\u001b[39;00m\n\u001b[0;32m--> 602\u001b[0m \u001b[39mreturn\u001b[39;00m heapq\u001b[39m.\u001b[39;49mnlargest(n, \u001b[39mself\u001b[39;49m\u001b[39m.\u001b[39;49mitems(), key\u001b[39m=\u001b[39;49m_itemgetter(\u001b[39m1\u001b[39;49m))\n",
      "File \u001b[0;32m/opt/homebrew/Cellar/python@3.10/3.10.9/Frameworks/Python.framework/Versions/3.10/lib/python3.10/heapq.py:531\u001b[0m, in \u001b[0;36mnlargest\u001b[0;34m(n, iterable, key)\u001b[0m\n\u001b[1;32m    529\u001b[0m     it \u001b[39m=\u001b[39m \u001b[39miter\u001b[39m(iterable)\n\u001b[1;32m    530\u001b[0m     sentinel \u001b[39m=\u001b[39m \u001b[39mobject\u001b[39m()\n\u001b[0;32m--> 531\u001b[0m     result \u001b[39m=\u001b[39m \u001b[39mmax\u001b[39;49m(it, default\u001b[39m=\u001b[39;49msentinel, key\u001b[39m=\u001b[39;49mkey)\n\u001b[1;32m    532\u001b[0m     \u001b[39mreturn\u001b[39;00m [] \u001b[39mif\u001b[39;00m result \u001b[39mis\u001b[39;00m sentinel \u001b[39melse\u001b[39;00m [result]\n\u001b[1;32m    534\u001b[0m \u001b[39m# When n>=size, it's faster to use sorted()\u001b[39;00m\n",
      "\u001b[0;31mKeyboardInterrupt\u001b[0m: "
     ]
    }
   ],
   "source": [
    "num_generations = 50\n",
    "old_parents = np.empty(1)\n",
    "num_same = 0\n",
    "for i in tqdm(range(num_generations)):\n",
    "    fitness = calc_pop_fitness(population, G)\n",
    "    parents = select_mating_pool(population, fitness, num_parents)\n",
    "    # if np.array_equiv(parents, old_parents):\n",
    "    #     num_same += 1\n",
    "    # else:\n",
    "    #     num_same = 0\n",
    "    # if num_same == 5:\n",
    "    #     break\n",
    "    old_parents = parents\n",
    "    offspring = crossover(parents, pop_size-num_parents)\n",
    "    offspring = mutation(offspring, G, num_mutations)\n",
    "    population = []\n",
    "    population.extend(parents.astype(int).astype(str))\n",
    "    population.extend(offspring.astype(int).astype(str))\n",
    "fitness = calc_pop_fitness(population, G)\n",
    "winning_strategy = population[np.argmax(fitness)]"
   ]
  },
  {
   "cell_type": "code",
   "execution_count": null,
   "metadata": {},
   "outputs": [
    {
     "data": {
      "text/plain": [
       "{'1': 11.0, '2': 186.0}"
      ]
     },
     "execution_count": 9,
     "metadata": {},
     "output_type": "execute_result"
    }
   ],
   "source": [
    "other = np.array(['13', '2', '11', '92', '9', '8', '10', '75', '33', '17'])\n",
    "genetic = winning_strategy\n",
    "score_seeds(genetic, other, nx.to_dict_of_lists(G))"
   ]
  },
  {
   "cell_type": "code",
   "execution_count": null,
   "metadata": {},
   "outputs": [],
   "source": [
    "\n",
    "# genetic = winning_strategy"
   ]
  },
  {
   "cell_type": "code",
   "execution_count": null,
   "metadata": {},
   "outputs": [
    {
     "name": "stdout",
     "output_type": "stream",
     "text": [
      "[200.   0.   0.]\n"
     ]
    },
    {
     "data": {
      "text/plain": [
       "{'1': 0.0, '2': 0.0}"
      ]
     },
     "execution_count": 10,
     "metadata": {},
     "output_type": "execute_result"
    }
   ],
   "source": []
  },
  {
   "cell_type": "code",
   "execution_count": null,
   "metadata": {},
   "outputs": [],
   "source": []
  }
 ],
 "metadata": {
  "kernelspec": {
   "display_name": "cs144",
   "language": "python",
   "name": "cs144"
  },
  "language_info": {
   "codemirror_mode": {
    "name": "ipython",
    "version": 3
   },
   "file_extension": ".py",
   "mimetype": "text/x-python",
   "name": "python",
   "nbconvert_exporter": "python",
   "pygments_lexer": "ipython3",
   "version": "3.10.9"
  },
  "orig_nbformat": 4
 },
 "nbformat": 4,
 "nbformat_minor": 2
}
