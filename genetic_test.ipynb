{
 "cells": [
  {
   "cell_type": "code",
   "execution_count": 6,
   "metadata": {},
   "outputs": [],
   "source": [
    "import numpy as np\n",
    "import sim\n",
    "from utils import *\n",
    "import networkx as nx\n",
    "from tqdm import tqdm\n",
    "from genetic_utils import *"
   ]
  },
  {
   "cell_type": "code",
   "execution_count": 7,
   "metadata": {},
   "outputs": [],
   "source": [
    "# Get graph\n",
    "G = get_graph_from_file(\"sample_graphs/J.5.1.json\")"
   ]
  },
  {
   "cell_type": "code",
   "execution_count": 8,
   "metadata": {},
   "outputs": [],
   "source": [
    "# Population\n",
    "pop_size = 30\n",
    "num_seeds = 10\n",
    "num_parents = 4\n",
    "num_mutations = int(num_seeds/3)\n",
    "population = [np.random.choice(list(G.nodes), num_seeds, replace=False) for _ in range(pop_size)]\n",
    "\n",
    "nodes = optimized_sim.create_nodes(nx.to_dict_of_lists(G))"
   ]
  },
  {
   "cell_type": "code",
   "execution_count": 9,
   "metadata": {},
   "outputs": [
    {
     "name": "stderr",
     "output_type": "stream",
     "text": [
      "100%|██████████| 20/20 [00:00<00:00, 175.12it/s]\n"
     ]
    }
   ],
   "source": [
    "num_generations = 20\n",
    "old_parents = np.empty(1)\n",
    "num_same = 0\n",
    "for i in tqdm(range(num_generations)):\n",
    "    fitness = calc_pop_fitness(population, nodes,2)\n",
    "    parents = select_mating_pool(population, fitness, num_parents)\n",
    "    # if np.array_equiv(parents, old_parents):\n",
    "    #     num_same += 1\n",
    "    # else:\n",
    "    #     num_same = 0\n",
    "    # if num_same == 5:\n",
    "    #     break\n",
    "    old_parents = parents\n",
    "    offspring = crossover(parents, pop_size-num_parents)\n",
    "    offspring = mutation(offspring, G, num_mutations)\n",
    "    population = []\n",
    "    population.extend(parents.astype(int).astype(str))\n",
    "    population.extend(offspring.astype(int).astype(str))\n",
    "fitness = calc_pop_fitness(population, nodes, 2)\n",
    "winning_strategy = population[np.argmax(fitness)]"
   ]
  },
  {
   "cell_type": "code",
   "execution_count": 10,
   "metadata": {},
   "outputs": [
    {
     "data": {
      "text/plain": [
       "(8.0, 189.0)"
      ]
     },
     "execution_count": 10,
     "metadata": {},
     "output_type": "execute_result"
    }
   ],
   "source": [
    "other = np.array(['13', '2', '11', '92', '9', '8', '10', '75', '33', '17'])\n",
    "other2 = np.array(['20', '7', '15', '80', '150', '40', '30', '25', '90', '1'])\n",
    "# genetic = winning_strategy\n",
    "score_seeds_opt(other2, other, nodes)"
   ]
  },
  {
   "cell_type": "code",
   "execution_count": null,
   "metadata": {},
   "outputs": [],
   "source": []
  },
  {
   "cell_type": "code",
   "execution_count": null,
   "metadata": {},
   "outputs": [],
   "source": []
  }
 ],
 "metadata": {
  "kernelspec": {
   "display_name": "cs144",
   "language": "python",
   "name": "cs144"
  },
  "language_info": {
   "codemirror_mode": {
    "name": "ipython",
    "version": 3
   },
   "file_extension": ".py",
   "mimetype": "text/x-python",
   "name": "python",
   "nbconvert_exporter": "python",
   "pygments_lexer": "ipython3",
   "version": "3.10.9"
  },
  "orig_nbformat": 4,
  "vscode": {
   "interpreter": {
    "hash": "2c17cdae881039898e019dde816ef025ab5528b4115dbe62b08e3ff91b305481"
   }
  }
 },
 "nbformat": 4,
 "nbformat_minor": 2
}
