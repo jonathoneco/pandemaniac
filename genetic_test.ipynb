{
 "cells": [
  {
   "cell_type": "code",
   "execution_count": 8,
   "metadata": {},
   "outputs": [],
   "source": [
    "import numpy as np\n",
    "import sim\n",
    "from utils import *\n",
    "import networkx as nx\n",
    "from tqdm import tqdm"
   ]
  },
  {
   "cell_type": "code",
   "execution_count": 9,
   "metadata": {},
   "outputs": [],
   "source": [
    "# Get graph\n",
    "G = get_graph_from_file(\"sample_graphs/J.5.1.json\")"
   ]
  },
  {
   "cell_type": "code",
   "execution_count": 10,
   "metadata": {},
   "outputs": [],
   "source": [
    "# Population\n",
    "pop_size = 30\n",
    "num_seeds = 10\n",
    "num_parents = 4\n",
    "num_mutations = int(num_seeds/3)\n",
    "population = [np.random.choice(list(G.nodes), num_seeds, replace=False) for _ in range(pop_size)]\n",
    "\n",
    "nodes = optimized_sim.create_nodes(nx.to_dict_of_lists(G))"
   ]
  },
  {
   "cell_type": "code",
   "execution_count": 11,
   "metadata": {},
   "outputs": [],
   "source": [
    "def calc_pop_fitness(pop, nodes):\n",
    "    fitness = np.zeros(pop_size)\n",
    "    for i in range(pop_size):\n",
    "        for j in range(0, i, 1):\n",
    "            # res = score_comp_seeds(list(pop[i]), list(pop[j]), adj_list)\n",
    "            # if   res ==  1: fitness[i] += 1\n",
    "            # elif res == -1: fitness[j] += 1\n",
    "            # elif res ==  0: continue#print(f'Tie between {strat1} and {strat2}')\n",
    "            res = list(score_seeds_opt(list(pop[i]), list(pop[j]), nodes).values())\n",
    "            fitness[i] += res[0]\n",
    "            fitness[j] += res[1]\n",
    "    return fitness\n"
   ]
  },
  {
   "cell_type": "code",
   "execution_count": 12,
   "metadata": {},
   "outputs": [],
   "source": [
    "def select_mating_pool(pop, fitness, num_parents):\n",
    "    parents = np.zeros((num_parents, num_seeds))\n",
    "    for parent_num in range(num_parents):\n",
    "        max_fitness_idx = np.argmax(fitness)\n",
    "        parents[parent_num] = pop[max_fitness_idx]\n",
    "        fitness[max_fitness_idx] = -999999999\n",
    "    return parents"
   ]
  },
  {
   "cell_type": "code",
   "execution_count": 13,
   "metadata": {},
   "outputs": [],
   "source": [
    "def crossover(parents, offspring_size):\n",
    "    offspring = np.empty((offspring_size, num_seeds))\n",
    "    for k in range(offspring_size):\n",
    "        parent1_idx, parent2_idx = np.random.choice(num_parents, 2, replace=False)\n",
    "        parents_seeds = np.unique(np.concatenate((parents[parent1_idx], parents[parent2_idx])))\n",
    "        test = np.random.choice(parents_seeds, num_seeds, replace=False)\n",
    "        offspring[k] = test\n",
    "    return offspring"
   ]
  },
  {
   "cell_type": "code",
   "execution_count": 14,
   "metadata": {},
   "outputs": [],
   "source": [
    "def mutation(offspring_crossover, G, num_mutations):\n",
    "    for idx in range(offspring_crossover.shape[0]):\n",
    "        while True:\n",
    "            choice = np.random.choice(G.nodes, num_mutations, replace=False).astype(int)\n",
    "            if not np.isin(choice, offspring_crossover[idx]).any():\n",
    "                offspring_crossover[idx, :num_mutations] = choice\n",
    "                break\n",
    "    return offspring_crossover\n"
   ]
  },
  {
   "cell_type": "code",
   "execution_count": 15,
   "metadata": {},
   "outputs": [
    {
     "name": "stderr",
     "output_type": "stream",
     "text": [
      "100%|██████████| 20/20 [00:45<00:00,  2.29s/it]\n"
     ]
    }
   ],
   "source": [
    "num_generations = 20\n",
    "old_parents = np.empty(1)\n",
    "num_same = 0\n",
    "for i in tqdm(range(num_generations)):\n",
    "    fitness = calc_pop_fitness(population, nodes)\n",
    "    parents = select_mating_pool(population, fitness, num_parents)\n",
    "    # if np.array_equiv(parents, old_parents):\n",
    "    #     num_same += 1\n",
    "    # else:\n",
    "    #     num_same = 0\n",
    "    # if num_same == 5:\n",
    "    #     break\n",
    "    old_parents = parents\n",
    "    offspring = crossover(parents, pop_size-num_parents)\n",
    "    offspring = mutation(offspring, G, num_mutations)\n",
    "    population = []\n",
    "    population.extend(parents.astype(int).astype(str))\n",
    "    population.extend(offspring.astype(int).astype(str))\n",
    "fitness = calc_pop_fitness(population, nodes)\n",
    "winning_strategy = population[np.argmax(fitness)]"
   ]
  },
  {
   "cell_type": "code",
   "execution_count": 17,
   "metadata": {},
   "outputs": [
    {
     "data": {
      "text/plain": [
       "{'1': 8.0, '2': 189.0}"
      ]
     },
     "execution_count": 17,
     "metadata": {},
     "output_type": "execute_result"
    }
   ],
   "source": [
    "other = np.array(['13', '2', '11', '92', '9', '8', '10', '75', '33', '17'])\n",
    "other2 = np.array(['20', '7', '15', '80', '150', '40', '30', '25', '90', '1'])\n",
    "# genetic = winning_strategy\n",
    "score_seeds_opt(other2, other, nodes)"
   ]
  },
  {
   "cell_type": "code",
   "execution_count": null,
   "metadata": {},
   "outputs": [],
   "source": [
    "\n",
    "# genetic = winning_strategy"
   ]
  },
  {
   "cell_type": "code",
   "execution_count": null,
   "metadata": {},
   "outputs": [],
   "source": []
  }
 ],
 "metadata": {
  "kernelspec": {
   "display_name": "Python 3",
   "language": "python",
   "name": "python3"
  },
  "language_info": {
   "codemirror_mode": {
    "name": "ipython",
    "version": 3
   },
   "file_extension": ".py",
   "mimetype": "text/x-python",
   "name": "python",
   "nbconvert_exporter": "python",
   "pygments_lexer": "ipython3",
   "version": "3.9.12"
  },
  "orig_nbformat": 4,
  "vscode": {
   "interpreter": {
    "hash": "2c17cdae881039898e019dde816ef025ab5528b4115dbe62b08e3ff91b305481"
   }
  }
 },
 "nbformat": 4,
 "nbformat_minor": 2
}
